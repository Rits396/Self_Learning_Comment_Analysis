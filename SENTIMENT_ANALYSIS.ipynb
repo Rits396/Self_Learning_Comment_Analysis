{
  "nbformat": 4,
  "nbformat_minor": 0,
  "metadata": {
    "colab": {
      "provenance": [],
      "include_colab_link": true
    },
    "kernelspec": {
      "name": "python3",
      "display_name": "Python 3"
    },
    "language_info": {
      "name": "python"
    }
  },
  "cells": [
    {
      "cell_type": "markdown",
      "metadata": {
        "id": "view-in-github",
        "colab_type": "text"
      },
      "source": [
        "<a href=\"https://colab.research.google.com/github/Rits396/Self_Learning_Comment_Analysis/blob/main/SENTIMENT_ANALYSIS.ipynb\" target=\"_parent\"><img src=\"https://colab.research.google.com/assets/colab-badge.svg\" alt=\"Open In Colab\"/></a>"
      ]
    },
    {
      "cell_type": "markdown",
      "source": [
        "SENTIMENT ANALYSIS OF AMAZON'S CUSTOMER REVIEWS"
      ],
      "metadata": {
        "id": "E2iS2GiRGjBO"
      }
    },
    {
      "cell_type": "markdown",
      "source": [
        "We'll be doing the following in this case:\n",
        "\n",
        "1)Read and analyze the input text data and the corresponding response variables (ratings)\n",
        "\n",
        "2)Perform basic pre-processing to prepare the data for modeling\n",
        "\n",
        "3)Learn and apply various ways of featurizing the reviews text\n",
        "\n",
        "4)Build machine learning models to classify text as either exhibiting positive or negative sentiment (1 or 0)."
      ],
      "metadata": {
        "id": "NZW-FRKUGTB_"
      }
    },
    {
      "cell_type": "code",
      "execution_count": null,
      "metadata": {
        "id": "brOszyzrEd2O"
      },
      "outputs": [],
      "source": [
        "#General packages\n",
        "import numpy as np\n",
        "import pandas as pd\n",
        "import seaborn as sns\n",
        "import os\n",
        "import matplotlib as plt\n",
        "\n",
        "#NLP packages\n",
        "import nltk\n",
        "import re\n",
        "from nltk import word_tokenize\n",
        "from sklearn.feature_extraction.text import CountVectorizer\n",
        "from sklearn.feature_extraction.text import TfidfVectorizer\n",
        "from collections import Counter\n",
        "from wordcloud import WordCloud\n",
        "\n",
        "# Modeling packages\n",
        "from sklearn.model_selection import train_test_split\n",
        "from sklearn.linear_model import LogisticRegression\n",
        "from sklearn.ensemble import RandomForestClassifier\n",
        "from sklearn.metrics import accuracy_score\n",
        "from sklearn.metrics import f1_score"
      ]
    },
    {
      "cell_type": "markdown",
      "source": [
        "Following attributes are available in our dataset :\n",
        "\n",
        "1)**Id (numerical)**: start and end date of the attack in timestamp format.\n",
        "\n",
        "2)**ProductId (categorical**): ID of the referenced product by the customer.\n",
        "\n",
        "3)**UserId (categorical)**: registered user ID.\n",
        "\n",
        "4)**ProfileName (text)**: registered user profile name.\n",
        "\n",
        "5)**HelpfulnessNumerator (numerical)**: number of users who found the review helpful.\n",
        "\n",
        "6)**HelpfulnessDenominator (numerical)**: Number of users who voted whether the review was helpful or not.\n",
        "\n",
        "7)**Score (ordinal)**: rating between 1 and 5.\n",
        "\n",
        "8)**Time (numerical)**: timestamp of the review.\n",
        "\n",
        "9)**Summary (text)**: brief summary of the review.\n",
        "\n",
        "10)**Text (text)**: text of the review."
      ],
      "metadata": {
        "id": "oVqdgGNbGykd"
      }
    },
    {
      "cell_type": "code",
      "source": [
        "amazon_reviews = pd.read_csv('https://media.githubusercontent.com/media/juliandariomirandacalle/NLP_Notebooks/master/01-Introduction_NLP/Customer_Reviews.csv')\n",
        "print(\"NUMBER OF COLUMNS AND ROWS IN OUR DATESET ARE: \",amazon_reviews.shape,\"\\n\\n\\n\\n\")\n",
        "amazon_reviews.sample(10)"
      ],
      "metadata": {
        "id": "Z8RI6NbeFiYN",
        "colab": {
          "base_uri": "https://localhost:8080/",
          "height": 893
        },
        "outputId": "77426a5e-2234-46a3-9a99-a239fe00f4d1"
      },
      "execution_count": null,
      "outputs": [
        {
          "output_type": "stream",
          "name": "stdout",
          "text": [
            "NUMBER OF COLUMNS AND ROWS IN OUR DATESET ARE:  (10000, 9) \n",
            "\n",
            "\n",
            "\n",
            "\n"
          ]
        },
        {
          "output_type": "execute_result",
          "data": {
            "text/html": [
              "\n",
              "  <div id=\"df-016bea45-8b81-4d4a-94f0-32b40a14f6b0\">\n",
              "    <div class=\"colab-df-container\">\n",
              "      <div>\n",
              "<style scoped>\n",
              "    .dataframe tbody tr th:only-of-type {\n",
              "        vertical-align: middle;\n",
              "    }\n",
              "\n",
              "    .dataframe tbody tr th {\n",
              "        vertical-align: top;\n",
              "    }\n",
              "\n",
              "    .dataframe thead th {\n",
              "        text-align: right;\n",
              "    }\n",
              "</style>\n",
              "<table border=\"1\" class=\"dataframe\">\n",
              "  <thead>\n",
              "    <tr style=\"text-align: right;\">\n",
              "      <th></th>\n",
              "      <th>ProductId</th>\n",
              "      <th>UserId</th>\n",
              "      <th>ProfileName</th>\n",
              "      <th>HelpfulnessNumerator</th>\n",
              "      <th>HelpfulnessDenominator</th>\n",
              "      <th>Score</th>\n",
              "      <th>Time</th>\n",
              "      <th>Summary</th>\n",
              "      <th>Text</th>\n",
              "    </tr>\n",
              "  </thead>\n",
              "  <tbody>\n",
              "    <tr>\n",
              "      <th>4268</th>\n",
              "      <td>B004391DK0</td>\n",
              "      <td>A1SS2SBDCGS4KD</td>\n",
              "      <td>Margaret</td>\n",
              "      <td>0</td>\n",
              "      <td>0</td>\n",
              "      <td>5</td>\n",
              "      <td>1294531200</td>\n",
              "      <td>Best Pizza since I have been gluten free</td>\n",
              "      <td>I absolutely LOVE this product - being able to...</td>\n",
              "    </tr>\n",
              "    <tr>\n",
              "      <th>8660</th>\n",
              "      <td>B003VXFK44</td>\n",
              "      <td>A25SQ33WVST1HV</td>\n",
              "      <td>Brant L. Rusch</td>\n",
              "      <td>0</td>\n",
              "      <td>1</td>\n",
              "      <td>2</td>\n",
              "      <td>1327708800</td>\n",
              "      <td>Not a fan of this blend</td>\n",
              "      <td>Coffee is a very subjective thing.  Some peopl...</td>\n",
              "    </tr>\n",
              "    <tr>\n",
              "      <th>4748</th>\n",
              "      <td>B00139TT72</td>\n",
              "      <td>A1WKN1EOXSER0D</td>\n",
              "      <td>Mom 2 Two \"wife2abadge\"</td>\n",
              "      <td>1</td>\n",
              "      <td>2</td>\n",
              "      <td>5</td>\n",
              "      <td>1266796800</td>\n",
              "      <td>(apparently) delicious and healthy</td>\n",
              "      <td>I have started buying a lot of organic food ov...</td>\n",
              "    </tr>\n",
              "    <tr>\n",
              "      <th>3246</th>\n",
              "      <td>B005K4Q1VI</td>\n",
              "      <td>A2H84V55USFJQX</td>\n",
              "      <td>M5</td>\n",
              "      <td>0</td>\n",
              "      <td>0</td>\n",
              "      <td>5</td>\n",
              "      <td>1337126400</td>\n",
              "      <td>the best chocolate taste out there!</td>\n",
              "      <td>the greatest, best chocolate taste in any keur...</td>\n",
              "    </tr>\n",
              "    <tr>\n",
              "      <th>136</th>\n",
              "      <td>B002SRYRE8</td>\n",
              "      <td>A198FU6P1BVUNZ</td>\n",
              "      <td>Sarah</td>\n",
              "      <td>0</td>\n",
              "      <td>0</td>\n",
              "      <td>5</td>\n",
              "      <td>1349740800</td>\n",
              "      <td>Tastes awesome &amp; looks beautiful</td>\n",
              "      <td>The BEST investment I've ever made for ginger....</td>\n",
              "    </tr>\n",
              "    <tr>\n",
              "      <th>1377</th>\n",
              "      <td>B00068PCTU</td>\n",
              "      <td>A3B4KVOTQT9TII</td>\n",
              "      <td>S. Harlow \"Princess\"</td>\n",
              "      <td>1</td>\n",
              "      <td>1</td>\n",
              "      <td>5</td>\n",
              "      <td>1269648000</td>\n",
              "      <td>Get Healthy Live Better and Longer</td>\n",
              "      <td>Cutting sugar out of our diet,we went to splen...</td>\n",
              "    </tr>\n",
              "    <tr>\n",
              "      <th>6378</th>\n",
              "      <td>B0046HLQ42</td>\n",
              "      <td>A2AR2MTI4T1Z30</td>\n",
              "      <td>customer</td>\n",
              "      <td>1</td>\n",
              "      <td>1</td>\n",
              "      <td>1</td>\n",
              "      <td>1334188800</td>\n",
              "      <td>HUGE RIPOFF</td>\n",
              "      <td>This says 4 pack...so I assumed like other pur...</td>\n",
              "    </tr>\n",
              "    <tr>\n",
              "      <th>2024</th>\n",
              "      <td>B001E5E29A</td>\n",
              "      <td>A1TP9URWVDW3N</td>\n",
              "      <td>William Houston</td>\n",
              "      <td>3</td>\n",
              "      <td>4</td>\n",
              "      <td>5</td>\n",
              "      <td>1256169600</td>\n",
              "      <td>Great Waffle Mix</td>\n",
              "      <td>This mix makes great tasting waffles.  A littl...</td>\n",
              "    </tr>\n",
              "    <tr>\n",
              "      <th>6329</th>\n",
              "      <td>B001AW9PTO</td>\n",
              "      <td>A2OEZIIK61GDW0</td>\n",
              "      <td>California Doug</td>\n",
              "      <td>3</td>\n",
              "      <td>3</td>\n",
              "      <td>4</td>\n",
              "      <td>1280707200</td>\n",
              "      <td>Good stuff</td>\n",
              "      <td>These beef jerky strips are really good.  Text...</td>\n",
              "    </tr>\n",
              "    <tr>\n",
              "      <th>165</th>\n",
              "      <td>B003TQQKFQ</td>\n",
              "      <td>A2TUJ3MOKXZVYK</td>\n",
              "      <td>Amy</td>\n",
              "      <td>1</td>\n",
              "      <td>1</td>\n",
              "      <td>5</td>\n",
              "      <td>1338508800</td>\n",
              "      <td>This stuff is sooooo good!</td>\n",
              "      <td>I read about pomegranate molasses so I had to ...</td>\n",
              "    </tr>\n",
              "  </tbody>\n",
              "</table>\n",
              "</div>\n",
              "      <button class=\"colab-df-convert\" onclick=\"convertToInteractive('df-016bea45-8b81-4d4a-94f0-32b40a14f6b0')\"\n",
              "              title=\"Convert this dataframe to an interactive table.\"\n",
              "              style=\"display:none;\">\n",
              "        \n",
              "  <svg xmlns=\"http://www.w3.org/2000/svg\" height=\"24px\"viewBox=\"0 0 24 24\"\n",
              "       width=\"24px\">\n",
              "    <path d=\"M0 0h24v24H0V0z\" fill=\"none\"/>\n",
              "    <path d=\"M18.56 5.44l.94 2.06.94-2.06 2.06-.94-2.06-.94-.94-2.06-.94 2.06-2.06.94zm-11 1L8.5 8.5l.94-2.06 2.06-.94-2.06-.94L8.5 2.5l-.94 2.06-2.06.94zm10 10l.94 2.06.94-2.06 2.06-.94-2.06-.94-.94-2.06-.94 2.06-2.06.94z\"/><path d=\"M17.41 7.96l-1.37-1.37c-.4-.4-.92-.59-1.43-.59-.52 0-1.04.2-1.43.59L10.3 9.45l-7.72 7.72c-.78.78-.78 2.05 0 2.83L4 21.41c.39.39.9.59 1.41.59.51 0 1.02-.2 1.41-.59l7.78-7.78 2.81-2.81c.8-.78.8-2.07 0-2.86zM5.41 20L4 18.59l7.72-7.72 1.47 1.35L5.41 20z\"/>\n",
              "  </svg>\n",
              "      </button>\n",
              "      \n",
              "  <style>\n",
              "    .colab-df-container {\n",
              "      display:flex;\n",
              "      flex-wrap:wrap;\n",
              "      gap: 12px;\n",
              "    }\n",
              "\n",
              "    .colab-df-convert {\n",
              "      background-color: #E8F0FE;\n",
              "      border: none;\n",
              "      border-radius: 50%;\n",
              "      cursor: pointer;\n",
              "      display: none;\n",
              "      fill: #1967D2;\n",
              "      height: 32px;\n",
              "      padding: 0 0 0 0;\n",
              "      width: 32px;\n",
              "    }\n",
              "\n",
              "    .colab-df-convert:hover {\n",
              "      background-color: #E2EBFA;\n",
              "      box-shadow: 0px 1px 2px rgba(60, 64, 67, 0.3), 0px 1px 3px 1px rgba(60, 64, 67, 0.15);\n",
              "      fill: #174EA6;\n",
              "    }\n",
              "\n",
              "    [theme=dark] .colab-df-convert {\n",
              "      background-color: #3B4455;\n",
              "      fill: #D2E3FC;\n",
              "    }\n",
              "\n",
              "    [theme=dark] .colab-df-convert:hover {\n",
              "      background-color: #434B5C;\n",
              "      box-shadow: 0px 1px 3px 1px rgba(0, 0, 0, 0.15);\n",
              "      filter: drop-shadow(0px 1px 2px rgba(0, 0, 0, 0.3));\n",
              "      fill: #FFFFFF;\n",
              "    }\n",
              "  </style>\n",
              "\n",
              "      <script>\n",
              "        const buttonEl =\n",
              "          document.querySelector('#df-016bea45-8b81-4d4a-94f0-32b40a14f6b0 button.colab-df-convert');\n",
              "        buttonEl.style.display =\n",
              "          google.colab.kernel.accessAllowed ? 'block' : 'none';\n",
              "\n",
              "        async function convertToInteractive(key) {\n",
              "          const element = document.querySelector('#df-016bea45-8b81-4d4a-94f0-32b40a14f6b0');\n",
              "          const dataTable =\n",
              "            await google.colab.kernel.invokeFunction('convertToInteractive',\n",
              "                                                     [key], {});\n",
              "          if (!dataTable) return;\n",
              "\n",
              "          const docLinkHtml = 'Like what you see? Visit the ' +\n",
              "            '<a target=\"_blank\" href=https://colab.research.google.com/notebooks/data_table.ipynb>data table notebook</a>'\n",
              "            + ' to learn more about interactive tables.';\n",
              "          element.innerHTML = '';\n",
              "          dataTable['output_type'] = 'display_data';\n",
              "          await google.colab.output.renderOutput(dataTable, element);\n",
              "          const docLink = document.createElement('div');\n",
              "          docLink.innerHTML = docLinkHtml;\n",
              "          element.appendChild(docLink);\n",
              "        }\n",
              "      </script>\n",
              "    </div>\n",
              "  </div>\n",
              "  "
            ],
            "text/plain": [
              "       ProductId  ...                                               Text\n",
              "4268  B004391DK0  ...  I absolutely LOVE this product - being able to...\n",
              "8660  B003VXFK44  ...  Coffee is a very subjective thing.  Some peopl...\n",
              "4748  B00139TT72  ...  I have started buying a lot of organic food ov...\n",
              "3246  B005K4Q1VI  ...  the greatest, best chocolate taste in any keur...\n",
              "136   B002SRYRE8  ...  The BEST investment I've ever made for ginger....\n",
              "1377  B00068PCTU  ...  Cutting sugar out of our diet,we went to splen...\n",
              "6378  B0046HLQ42  ...  This says 4 pack...so I assumed like other pur...\n",
              "2024  B001E5E29A  ...  This mix makes great tasting waffles.  A littl...\n",
              "6329  B001AW9PTO  ...  These beef jerky strips are really good.  Text...\n",
              "165   B003TQQKFQ  ...  I read about pomegranate molasses so I had to ...\n",
              "\n",
              "[10 rows x 9 columns]"
            ]
          },
          "metadata": {},
          "execution_count": 34
        }
      ]
    },
    {
      "cell_type": "markdown",
      "source": [
        "BASIC CLEANING"
      ],
      "metadata": {
        "id": "5Yxq6EeR0Qi2"
      }
    },
    {
      "cell_type": "code",
      "source": [
        "#removing all null values\n",
        "amazon_reviews= amazon_reviews[~amazon_reviews['Text'].isnull()]\n",
        "print(amazon_reviews.isnull().sum())\n",
        "\n",
        "#removing all duplicate values on the basis of userid , profilename,time etc\n",
        "amazon_reviews=amazon_reviews.sort_values('ProductId').drop_duplicates(subset=['UserId','ProfileName','Time','Summary','Text'],keep='first',inplace=False)\n",
        "amazon_reviews=amazon_reviews[amazon_reviews['HelpfulnessDenominator']>=amazon_reviews['HelpfulnessNumerator']]\n",
        "amazon_reviews.shape\n"
      ],
      "metadata": {
        "id": "BzC-fcXJIDd3",
        "colab": {
          "base_uri": "https://localhost:8080/"
        },
        "outputId": "9c7b8353-c0c1-4087-9c4d-bcacc3206917"
      },
      "execution_count": null,
      "outputs": [
        {
          "output_type": "stream",
          "name": "stdout",
          "text": [
            "ProductId                 0\n",
            "UserId                    0\n",
            "ProfileName               0\n",
            "HelpfulnessNumerator      0\n",
            "HelpfulnessDenominator    0\n",
            "Score                     0\n",
            "Time                      0\n",
            "Summary                   0\n",
            "Text                      0\n",
            "dtype: int64\n"
          ]
        },
        {
          "output_type": "execute_result",
          "data": {
            "text/plain": [
              "(9520, 9)"
            ]
          },
          "metadata": {},
          "execution_count": 35
        }
      ]
    },
    {
      "cell_type": "markdown",
      "source": [
        "CLASSIFYING REVIEWS AS POSITIVE (1) AND NEGATIVE (0)"
      ],
      "metadata": {
        "id": "7TI0_JQykbjo"
      }
    },
    {
      "cell_type": "code",
      "source": [
        "amazon_reviews['Score'].value_counts()\n"
      ],
      "metadata": {
        "id": "nj5_3uYgssu4",
        "colab": {
          "base_uri": "https://localhost:8080/"
        },
        "outputId": "781788d2-2323-4aa0-8026-fd918ac0a829"
      },
      "execution_count": null,
      "outputs": [
        {
          "output_type": "execute_result",
          "data": {
            "text/plain": [
              "5    5933\n",
              "4    1356\n",
              "1     884\n",
              "3     797\n",
              "2     550\n",
              "Name: Score, dtype: int64"
            ]
          },
          "metadata": {},
          "execution_count": 36
        }
      ]
    },
    {
      "cell_type": "code",
      "source": [
        "import warnings\n",
        "warnings.filterwarnings(\"ignore\")"
      ],
      "metadata": {
        "id": "jmzRAAJawplE"
      },
      "execution_count": null,
      "outputs": []
    },
    {
      "cell_type": "markdown",
      "source": [
        "For the purposes of sentiment analysis, we will convert all of the ratings into binary values using the follow rule:\n",
        "\n",
        "\n",
        "Ratings of 4 or 5 will get mapped to 1 and will be reltead to positive reviews\n",
        "\n",
        "Ratings of 1 or 2 will get mapped to 0 and will be related to negative reviews\n",
        "\n",
        "Ratings of 3 will get removed since they will represent neutral reviews.\n"
      ],
      "metadata": {
        "id": "TFX3wRqnqEEl"
      }
    },
    {
      "cell_type": "code",
      "source": [
        "x=(amazon_reviews[\"Score\"].count())\n",
        "## Removing neutral reviews\n",
        "amazon_reviews = amazon_reviews[amazon_reviews.Score != 3]\n",
        "print(\"number of neutral reviews which have been deleted: \",x-(amazon_reviews.Score.count()),\"\\n\")\n",
        "\n",
        "# Mapping the ratings\n",
        "amazon_reviews['Sentiment_rating'] = np.where(amazon_reviews.Score > 3,1,0)\n",
        "\n",
        "\n",
        "# Printing the counts of each class\n",
        "print(amazon_reviews['Sentiment_rating'].value_counts())\n",
        "\n",
        "import matplotlib.pyplot as plt\n",
        "amazon_reviews.Sentiment_rating.value_counts().plot.bar()\n",
        "plt.show()\n"
      ],
      "metadata": {
        "id": "mM6sbddOoq8R",
        "colab": {
          "base_uri": "https://localhost:8080/",
          "height": 349
        },
        "outputId": "e95ddc2f-0077-4d12-8e43-5ad545422fff"
      },
      "execution_count": null,
      "outputs": [
        {
          "output_type": "stream",
          "name": "stdout",
          "text": [
            "number of neutral reviews which have been deleted:  797 \n",
            "\n",
            "1    7289\n",
            "0    1434\n",
            "Name: Sentiment_rating, dtype: int64\n"
          ]
        },
        {
          "output_type": "display_data",
          "data": {
            "image/png": "[encoded data removed]",
            "text/plain": [
              "<Figure size 432x288 with 1 Axes>"
            ]
          },
          "metadata": {
            "needs_background": "light"
          }
        }
      ]
    },
    {
      "cell_type": "markdown",
      "source": [
        "PRE-PROCESSING"
      ],
      "metadata": {
        "id": "yUm3XYcjqSKu"
      }
    },
    {
      "cell_type": "markdown",
      "source": [
        "1. CONVERTING REVIEWS TEXT TO LOWERCASE"
      ],
      "metadata": {
        "id": "MKtalSECzsem"
      }
    },
    {
      "cell_type": "code",
      "source": [
        "#. Converting words to lower case\n",
        "amazon_reviews['reviews_text_new'] = amazon_reviews['Text'].str.lower()\n"
      ],
      "metadata": {
        "id": "0qBosfKhrVyv"
      },
      "execution_count": null,
      "outputs": []
    },
    {
      "cell_type": "code",
      "source": [
        "nltk.download(\"punkt\")\n",
        "# For reviews not converted to lower case\n",
        "token_lists = [word_tokenize(each) for each in amazon_reviews['Text']]\n",
        "tokens = [item for sublist in token_lists for item in sublist]\n",
        "print(\"Number of unique tokens then: \",len(set(tokens)))\n",
        "\n",
        "# For reviews converted to lower case\n",
        "token_lists_lower = [word_tokenize(each) for each in amazon_reviews['reviews_text_new']]\n",
        "tokens_lower = [item for sublist in token_lists_lower for item in sublist]\n",
        "print(\"Number of unique tokens now: \",len(set(tokens_lower)))\n"
      ],
      "metadata": {
        "id": "Zzy1b4EGvrIM",
        "colab": {
          "base_uri": "https://localhost:8080/"
        },
        "outputId": "2b8e5bdf-d95a-4f61-c9c0-8087a394375f"
      },
      "execution_count": null,
      "outputs": [
        {
          "output_type": "stream",
          "name": "stdout",
          "text": [
            "[nltk_data] Downloading package punkt to /root/nltk_data...\n",
            "[nltk_data]   Package punkt is already up-to-date!\n",
            "Number of unique tokens then:  27899\n",
            "Number of unique tokens now:  22865\n"
          ]
        }
      ]
    },
    {
      "cell_type": "markdown",
      "source": [
        "2. REMOVING SPECIAL CHARACTERS"
      ],
      "metadata": {
        "id": "z_cujkfVz1YQ"
      }
    },
    {
      "cell_type": "code",
      "source": [
        "### Selecting non alpha numeric charactes that are not spaces\n",
        "spl_chars = amazon_reviews['reviews_text_new'].apply(lambda review:\n",
        "                                                     [char for char in list(review) if not char.isalnum() and char != ' '])\n",
        "\n",
        "## Getting list of list into a single list\n",
        "flat_list = [item for sublist in spl_chars for item in sublist]\n",
        "\n",
        "## Unique special characters\n",
        "set(flat_list)\n",
        "\n"
      ],
      "metadata": {
        "id": "QHcDwot11eop"
      },
      "execution_count": null,
      "outputs": []
    },
    {
      "cell_type": "code",
      "source": [
        "review_backup = amazon_reviews['reviews_text_new'].copy()\n",
        "amazon_reviews['reviews_text_new'] = amazon_reviews['reviews_text_new'].str.replace(r'[^A-Za-z0-9 ]+', ' ')\n",
        "print(\"A review for example without speical words(taken from reviews_text_new:\\n\",amazon_reviews.reviews_text_new[0])\n"
      ],
      "metadata": {
        "id": "xUqu92LzoG92",
        "colab": {
          "base_uri": "https://localhost:8080/"
        },
        "outputId": "72aeead6-996a-4100-c656-41cc98b321a5"
      },
      "execution_count": null,
      "outputs": [
        {
          "output_type": "stream",
          "name": "stdout",
          "text": [
            "A review for example without speical words(taken from reviews_text_new:\n",
            " i have bought several of the vitality canned dog food products and have found them all to be of good quality  the product looks more like a stew than a processed meat and it smells better  my labrador is finicky and she appreciates this product better than  most \n"
          ]
        }
      ]
    },
    {
      "cell_type": "markdown",
      "source": [
        "3. STOPWORDS AND HIGH/LOW FREQUENCY WORDS"
      ],
      "metadata": {
        "id": "yC7krZGB9WnA"
      }
    },
    {
      "cell_type": "code",
      "source": [
        "\n",
        "from nltk.corpus import stopwords\n",
        "noise_words = []\n",
        "eng_stop_words = stopwords.words('english')\n",
        "\n",
        "\n",
        "stop_words = set(eng_stop_words)\n",
        "without_stop_words = []\n",
        "stopword = []\n",
        "sentence = amazon_reviews['reviews_text_new'][0]\n",
        "words = nltk.word_tokenize(sentence)\n",
        "\n",
        "for word in words:\n",
        "    if word in stop_words:\n",
        "        stopword.append(word)\n",
        "    else:\n",
        "        without_stop_words.append(word)\n",
        "\n",
        "print('-- Original Sentence --\\n', sentence)\n",
        "print('\\n-- Stopwords in the sentence --\\n', stopword)\n",
        "print('\\n-- Non-stopwords in the sentence --\\n', without_stop_words)\n",
        "\n",
        "\n",
        "\n"
      ],
      "metadata": {
        "id": "t0yXd4jMDD2Q",
        "colab": {
          "base_uri": "https://localhost:8080/"
        },
        "outputId": "800dca39-3027-4711-cd74-710b0fcdedd3"
      },
      "execution_count": null,
      "outputs": [
        {
          "output_type": "stream",
          "name": "stdout",
          "text": [
            "-- Original Sentence --\n",
            " i have bought several of the vitality canned dog food products and have found them all to be of good quality  the product looks more like a stew than a processed meat and it smells better  my labrador is finicky and she appreciates this product better than  most \n",
            "\n",
            "-- Stopwords in the sentence --\n",
            " ['i', 'have', 'of', 'the', 'and', 'have', 'them', 'all', 'to', 'be', 'of', 'the', 'more', 'a', 'than', 'a', 'and', 'it', 'my', 'is', 'and', 'she', 'this', 'than', 'most']\n",
            "\n",
            "-- Non-stopwords in the sentence --\n",
            " ['bought', 'several', 'vitality', 'canned', 'dog', 'food', 'products', 'found', 'good', 'quality', 'product', 'looks', 'like', 'stew', 'processed', 'meat', 'smells', 'better', 'labrador', 'finicky', 'appreciates', 'product', 'better']\n"
          ]
        }
      ]
    },
    {
      "cell_type": "code",
      "source": [
        "def stopwords_removal(stop_words, sentence):\n",
        "    return [word for word in nltk.word_tokenize(sentence) if word not in stop_words]\n",
        "\n",
        "amazon_reviews['reviews_text_nonstop'] = amazon_reviews['reviews_text_new'].apply(lambda row: stopwords_removal(stop_words, row))\n",
        "amazon_reviews[['reviews_text_new','reviews_text_nonstop']]"
      ],
      "metadata": {
        "id": "FMYFD-P1sf0N",
        "colab": {
          "base_uri": "https://localhost:8080/",
          "height": 423
        },
        "outputId": "a9cffc8e-a3e7-411d-96db-2048b8499f2d"
      },
      "execution_count": null,
      "outputs": [
        {
          "output_type": "execute_result",
          "data": {
            "text/html": [
              "\n",
              "  <div id=\"df-ea200827-d2f1-4fa0-9441-6714c5efcb3a\">\n",
              "    <div class=\"colab-df-container\">\n",
              "      <div>\n",
              "<style scoped>\n",
              "    .dataframe tbody tr th:only-of-type {\n",
              "        vertical-align: middle;\n",
              "    }\n",
              "\n",
              "    .dataframe tbody tr th {\n",
              "        vertical-align: top;\n",
              "    }\n",
              "\n",
              "    .dataframe thead th {\n",
              "        text-align: right;\n",
              "    }\n",
              "</style>\n",
              "<table border=\"1\" class=\"dataframe\">\n",
              "  <thead>\n",
              "    <tr style=\"text-align: right;\">\n",
              "      <th></th>\n",
              "      <th>reviews_text_new</th>\n",
              "      <th>reviews_text_nonstop</th>\n",
              "    </tr>\n",
              "  </thead>\n",
              "  <tbody>\n",
              "    <tr>\n",
              "      <th>2774</th>\n",
              "      <td>we have used the victor fly bait for 3 seasons...</td>\n",
              "      <td>[used, victor, fly, bait, 3, seasons, beat, gr...</td>\n",
              "    </tr>\n",
              "    <tr>\n",
              "      <th>2773</th>\n",
              "      <td>why is this   when the same product is availab...</td>\n",
              "      <td>[product, available, br, http, www, amazon, co...</td>\n",
              "    </tr>\n",
              "    <tr>\n",
              "      <th>1243</th>\n",
              "      <td>i just received my shipment and could hardly w...</td>\n",
              "      <td>[received, shipment, could, hardly, wait, try,...</td>\n",
              "    </tr>\n",
              "    <tr>\n",
              "      <th>1244</th>\n",
              "      <td>this was a really good idea and the final prod...</td>\n",
              "      <td>[really, good, idea, final, product, outstandi...</td>\n",
              "    </tr>\n",
              "    <tr>\n",
              "      <th>9524</th>\n",
              "      <td>if you re new to this product you need to be v...</td>\n",
              "      <td>[new, product, need, careful, dosage, strong, ...</td>\n",
              "    </tr>\n",
              "    <tr>\n",
              "      <th>...</th>\n",
              "      <td>...</td>\n",
              "      <td>...</td>\n",
              "    </tr>\n",
              "    <tr>\n",
              "      <th>764</th>\n",
              "      <td>this is one of the best choices  in my opinion...</td>\n",
              "      <td>[one, best, choices, opinion, also, adore, ama...</td>\n",
              "    </tr>\n",
              "    <tr>\n",
              "      <th>765</th>\n",
              "      <td>i have tried about 75  of the available t disc...</td>\n",
              "      <td>[tried, 75, available, discs, kona, blend, one...</td>\n",
              "    </tr>\n",
              "    <tr>\n",
              "      <th>767</th>\n",
              "      <td>of all the coffee s available for tassimo this...</td>\n",
              "      <td>[coffee, available, tassimo, kona, richest, fl...</td>\n",
              "    </tr>\n",
              "    <tr>\n",
              "      <th>1477</th>\n",
              "      <td>this coffee supposedly is premium  it tastes w...</td>\n",
              "      <td>[coffee, supposedly, premium, tastes, watery, ...</td>\n",
              "    </tr>\n",
              "    <tr>\n",
              "      <th>5702</th>\n",
              "      <td>purchased this product at a local store in ny ...</td>\n",
              "      <td>[purchased, product, local, store, ny, kids, l...</td>\n",
              "    </tr>\n",
              "  </tbody>\n",
              "</table>\n",
              "<p>8723 rows × 2 columns</p>\n",
              "</div>\n",
              "      <button class=\"colab-df-convert\" onclick=\"convertToInteractive('df-ea200827-d2f1-4fa0-9441-6714c5efcb3a')\"\n",
              "              title=\"Convert this dataframe to an interactive table.\"\n",
              "              style=\"display:none;\">\n",
              "        \n",
              "  <svg xmlns=\"http://www.w3.org/2000/svg\" height=\"24px\"viewBox=\"0 0 24 24\"\n",
              "       width=\"24px\">\n",
              "    <path d=\"M0 0h24v24H0V0z\" fill=\"none\"/>\n",
              "    <path d=\"M18.56 5.44l.94 2.06.94-2.06 2.06-.94-2.06-.94-.94-2.06-.94 2.06-2.06.94zm-11 1L8.5 8.5l.94-2.06 2.06-.94-2.06-.94L8.5 2.5l-.94 2.06-2.06.94zm10 10l.94 2.06.94-2.06 2.06-.94-2.06-.94-.94-2.06-.94 2.06-2.06.94z\"/><path d=\"M17.41 7.96l-1.37-1.37c-.4-.4-.92-.59-1.43-.59-.52 0-1.04.2-1.43.59L10.3 9.45l-7.72 7.72c-.78.78-.78 2.05 0 2.83L4 21.41c.39.39.9.59 1.41.59.51 0 1.02-.2 1.41-.59l7.78-7.78 2.81-2.81c.8-.78.8-2.07 0-2.86zM5.41 20L4 18.59l7.72-7.72 1.47 1.35L5.41 20z\"/>\n",
              "  </svg>\n",
              "      </button>\n",
              "      \n",
              "  <style>\n",
              "    .colab-df-container {\n",
              "      display:flex;\n",
              "      flex-wrap:wrap;\n",
              "      gap: 12px;\n",
              "    }\n",
              "\n",
              "    .colab-df-convert {\n",
              "      background-color: #E8F0FE;\n",
              "      border: none;\n",
              "      border-radius: 50%;\n",
              "      cursor: pointer;\n",
              "      display: none;\n",
              "      fill: #1967D2;\n",
              "      height: 32px;\n",
              "      padding: 0 0 0 0;\n",
              "      width: 32px;\n",
              "    }\n",
              "\n",
              "    .colab-df-convert:hover {\n",
              "      background-color: #E2EBFA;\n",
              "      box-shadow: 0px 1px 2px rgba(60, 64, 67, 0.3), 0px 1px 3px 1px rgba(60, 64, 67, 0.15);\n",
              "      fill: #174EA6;\n",
              "    }\n",
              "\n",
              "    [theme=dark] .colab-df-convert {\n",
              "      background-color: #3B4455;\n",
              "      fill: #D2E3FC;\n",
              "    }\n",
              "\n",
              "    [theme=dark] .colab-df-convert:hover {\n",
              "      background-color: #434B5C;\n",
              "      box-shadow: 0px 1px 3px 1px rgba(0, 0, 0, 0.15);\n",
              "      filter: drop-shadow(0px 1px 2px rgba(0, 0, 0, 0.3));\n",
              "      fill: #FFFFFF;\n",
              "    }\n",
              "  </style>\n",
              "\n",
              "      <script>\n",
              "        const buttonEl =\n",
              "          document.querySelector('#df-ea200827-d2f1-4fa0-9441-6714c5efcb3a button.colab-df-convert');\n",
              "        buttonEl.style.display =\n",
              "          google.colab.kernel.accessAllowed ? 'block' : 'none';\n",
              "\n",
              "        async function convertToInteractive(key) {\n",
              "          const element = document.querySelector('#df-ea200827-d2f1-4fa0-9441-6714c5efcb3a');\n",
              "          const dataTable =\n",
              "            await google.colab.kernel.invokeFunction('convertToInteractive',\n",
              "                                                     [key], {});\n",
              "          if (!dataTable) return;\n",
              "\n",
              "          const docLinkHtml = 'Like what you see? Visit the ' +\n",
              "            '<a target=\"_blank\" href=https://colab.research.google.com/notebooks/data_table.ipynb>data table notebook</a>'\n",
              "            + ' to learn more about interactive tables.';\n",
              "          element.innerHTML = '';\n",
              "          dataTable['output_type'] = 'display_data';\n",
              "          await google.colab.output.renderOutput(dataTable, element);\n",
              "          const docLink = document.createElement('div');\n",
              "          docLink.innerHTML = docLinkHtml;\n",
              "          element.appendChild(docLink);\n",
              "        }\n",
              "      </script>\n",
              "    </div>\n",
              "  </div>\n",
              "  "
            ],
            "text/plain": [
              "                                       reviews_text_new                               reviews_text_nonstop\n",
              "2774  we have used the victor fly bait for 3 seasons...  [used, victor, fly, bait, 3, seasons, beat, gr...\n",
              "2773  why is this   when the same product is availab...  [product, available, br, http, www, amazon, co...\n",
              "1243  i just received my shipment and could hardly w...  [received, shipment, could, hardly, wait, try,...\n",
              "1244  this was a really good idea and the final prod...  [really, good, idea, final, product, outstandi...\n",
              "9524  if you re new to this product you need to be v...  [new, product, need, careful, dosage, strong, ...\n",
              "...                                                 ...                                                ...\n",
              "764   this is one of the best choices  in my opinion...  [one, best, choices, opinion, also, adore, ama...\n",
              "765   i have tried about 75  of the available t disc...  [tried, 75, available, discs, kona, blend, one...\n",
              "767   of all the coffee s available for tassimo this...  [coffee, available, tassimo, kona, richest, fl...\n",
              "1477  this coffee supposedly is premium  it tastes w...  [coffee, supposedly, premium, tastes, watery, ...\n",
              "5702  purchased this product at a local store in ny ...  [purchased, product, local, store, ny, kids, l...\n",
              "\n",
              "[8723 rows x 2 columns]"
            ]
          },
          "metadata": {},
          "execution_count": 45
        }
      ]
    },
    {
      "cell_type": "markdown",
      "source": [
        "STEMMING AND LEMMETIZATION"
      ],
      "metadata": {
        "id": "y07Mv20qpzr5"
      }
    },
    {
      "cell_type": "code",
      "source": [
        "from nltk.stem import PorterStemmer, LancasterStemmer # Common stemmers\n",
        "from nltk.stem import WordNetLemmatizer # Common Lematizer\n",
        "nltk.download('wordnet')\n",
        "from nltk.corpus import wordnet\n",
        "\n",
        "porter = PorterStemmer()\n",
        "lancaster = LancasterStemmer()\n",
        "lemmatizer = WordNetLemmatizer()"
      ],
      "metadata": {
        "id": "E8Ylo_pwbe0w",
        "colab": {
          "base_uri": "https://localhost:8080/"
        },
        "outputId": "82ca0995-4e16-42ba-83ce-cc1821ce6655"
      },
      "execution_count": null,
      "outputs": [
        {
          "output_type": "stream",
          "name": "stdout",
          "text": [
            "[nltk_data] Downloading package wordnet to /root/nltk_data...\n",
            "[nltk_data]   Unzipping corpora/wordnet.zip.\n"
          ]
        }
      ]
    },
    {
      "cell_type": "code",
      "source": [
        "def stemm_terms(row):\n",
        "    return [lancaster.stem(term) for term in row]\n",
        "def lemmatize_terms(row):\n",
        "    return [lemmatizer.lemmatize(term) for term in row]\n",
        "\n",
        "amazon_reviews['reviews_text_stemm'] = amazon_reviews['reviews_text_nonstop'].apply(lambda row: stemm_terms(row))\n",
        "amazon_reviews['reviews_text_lemm'] = amazon_reviews['reviews_text_nonstop'].apply(lambda row: lemmatize_terms(row))\n",
        "amazon_reviews[['reviews_text_nonstop','reviews_text_stemm','reviews_text_lemm']]\n",
        "\n"
      ],
      "metadata": {
        "id": "Ot-bzKHn2eHv"
      },
      "execution_count": null,
      "outputs": []
    },
    {
      "cell_type": "markdown",
      "source": [
        "BUILDING A MACHINE LEARNING MODEL"
      ],
      "metadata": {
        "id": "LjmyKCyUs9Xd"
      }
    },
    {
      "cell_type": "markdown",
      "source": [
        "APPLYING LOGISTIC REGRESSION USING BAG OF WORDS"
      ],
      "metadata": {
        "id": "ZbPy6j3Gt6n1"
      }
    },
    {
      "cell_type": "code",
      "source": [
        "# The following code creates a word-document matrix.\n",
        "from sklearn.feature_extraction.text import CountVectorizer\n",
        "\n",
        "vec = CountVectorizer()\n",
        "X = vec.fit_transform(amazon_reviews['reviews_text_new'])\n",
        "df = pd.DataFrame(X.toarray(), columns = vec.get_feature_names())\n",
        "df.head()"
      ],
      "metadata": {
        "id": "ITgUy3bDwAgk"
      },
      "execution_count": null,
      "outputs": []
    },
    {
      "cell_type": "code",
      "source": [
        "### Creating a python object of the class CountVectorizer\n",
        "\n",
        "bow_counts = CountVectorizer(tokenizer= word_tokenize, # type of tokenization\n",
        "                             stop_words=noise_words, # List of stopwords\n",
        "                             ngram_range=(1,1)) # number of n-grams\n",
        "\n",
        "bow_data = bow_counts.fit_transform(amazon_reviews['reviews_text_new'])\n",
        "bow_data"
      ],
      "metadata": {
        "id": "r5x4Ubzau5Hg",
        "colab": {
          "base_uri": "https://localhost:8080/"
        },
        "outputId": "bc6cb246-017f-4871-b041-410faf14d085"
      },
      "execution_count": null,
      "outputs": [
        {
          "output_type": "execute_result",
          "data": {
            "text/plain": [
              "<8723x18039 sparse matrix of type '<class 'numpy.int64'>'\n",
              "\twith 474236 stored elements in Compressed Sparse Row format>"
            ]
          },
          "metadata": {},
          "execution_count": 49
        }
      ]
    },
    {
      "cell_type": "code",
      "source": [
        "X_train_bow, X_test_bow, y_train_bow, y_test_bow = train_test_split(bow_data, # Features\n",
        "                                                                    amazon_reviews['Sentiment_rating'], # Target variable\n",
        "                                                                    test_size = 0.2, # 20% test size\n",
        "                                                                    random_state = 0) # random state for replication purposes"
      ],
      "metadata": {
        "id": "H07k2qTMvG3e"
      },
      "execution_count": null,
      "outputs": []
    },
    {
      "cell_type": "code",
      "source": [
        "y_test_bow.value_counts()/y_test_bow.shape[0]"
      ],
      "metadata": {
        "id": "rvVoAP4hvJlK",
        "colab": {
          "base_uri": "https://localhost:8080/"
        },
        "outputId": "f151fe2a-dae8-4084-9f63-5dd83017478b"
      },
      "execution_count": null,
      "outputs": [
        {
          "output_type": "execute_result",
          "data": {
            "text/plain": [
              "1    0.834384\n",
              "0    0.165616\n",
              "Name: Sentiment_rating, dtype: float64"
            ]
          },
          "metadata": {},
          "execution_count": 51
        }
      ]
    },
    {
      "cell_type": "code",
      "source": [
        "### Training the model\n",
        "lr_model_all = LogisticRegression() # Logistic regression\n",
        "lr_model_all.fit(X_train_bow, y_train_bow) # Fitting a logistic regression model\n",
        "\n",
        "## Predicting the output\n",
        "test_pred_lr_all = lr_model_all.predict(X_test_bow) # Class prediction\n",
        "\n"
      ],
      "metadata": {
        "id": "YP_2RF7VvNFa"
      },
      "execution_count": null,
      "outputs": []
    },
    {
      "cell_type": "markdown",
      "source": [
        "EVALUATING THE MODEL"
      ],
      "metadata": {
        "id": "sNys-dW0sb-7"
      }
    },
    {
      "cell_type": "code",
      "source": [
        "#ACTUAL SENTIMENTS\n",
        "import matplotlib.pyplot as plt\n",
        "ser = pd.Series(y_test_bow)\n",
        "print(ser.value_counts())\n",
        "ser.value_counts().plot.bar()\n",
        "plt.show()"
      ],
      "metadata": {
        "colab": {
          "base_uri": "https://localhost:8080/",
          "height": 314
        },
        "id": "lhY3JsrRxcNr",
        "outputId": "3d37e305-35b7-46f6-c60c-8f8b6af7876f"
      },
      "execution_count": null,
      "outputs": [
        {
          "output_type": "stream",
          "name": "stdout",
          "text": [
            "1    1456\n",
            "0     289\n",
            "Name: Sentiment_rating, dtype: int64\n"
          ]
        },
        {
          "output_type": "display_data",
          "data": {
            "image/png": "[encoded data removed]",
            "text/plain": [
              "<Figure size 432x288 with 1 Axes>"
            ]
          },
          "metadata": {
            "needs_background": "light"
          }
        }
      ]
    },
    {
      "cell_type": "code",
      "source": [
        "#PREDICTED SENTIMENTS\n",
        "import matplotlib.pyplot as plt\n",
        "ser = pd.Series(test_pred_lr_all)\n",
        "print(ser.value_counts())\n",
        "ser.value_counts().plot.bar()\n",
        "plt.show()"
      ],
      "metadata": {
        "colab": {
          "base_uri": "https://localhost:8080/",
          "height": 314
        },
        "id": "3E2vvqSCueC8",
        "outputId": "ece9e89d-fa2e-4747-b096-057197904c28"
      },
      "execution_count": null,
      "outputs": [
        {
          "output_type": "stream",
          "name": "stdout",
          "text": [
            "1    1514\n",
            "0     231\n",
            "dtype: int64\n"
          ]
        },
        {
          "output_type": "display_data",
          "data": {
            "image/png": "[encoded data removed]",
            "text/plain": [
              "<Figure size 432x288 with 1 Axes>"
            ]
          },
          "metadata": {
            "needs_background": "light"
          }
        }
      ]
    },
    {
      "cell_type": "code",
      "source": [
        "## Calculate key performance metrics\n",
        "print(\"F1 score: \", f1_score(y_test_bow, test_pred_lr_all))\n",
        "print('Precision: %.3f' % precision_score(y_test_tfidf,test_pred_lr_all))\n",
        "print('Recall: %.3f' % recall_score(y_test_tfidf,test_pred_lr_all))\n",
        "print('Accuracy: %.3f' % accuracy_score(y_test_tfidf,test_pred_lr_all))"
      ],
      "metadata": {
        "colab": {
          "base_uri": "https://localhost:8080/"
        },
        "id": "ZJwOinDWsa__",
        "outputId": "ab86fe90-29e5-4b48-91fc-d31447f20994"
      },
      "execution_count": null,
      "outputs": [
        {
          "output_type": "stream",
          "name": "stdout",
          "text": [
            "F1 score:  0.936026936026936\n",
            "Precision: 0.918\n",
            "Recall: 0.955\n",
            "Accuracy: 0.891\n"
          ]
        }
      ]
    },
    {
      "cell_type": "code",
      "source": [
        "lr_weights = pd.DataFrame(list(zip(bow_counts.get_feature_names(), # ge tall the n-gram feature names\n",
        "                                   lr_model_all.coef_[0])), # get the logistic regression coefficients\n",
        "                          columns= ['words','weights']) # defining the colunm names\n",
        "\n",
        "lr_weights.sort_values(['weights'], ascending = False)[:15] # top-15 more important features for positive reviews"
      ],
      "metadata": {
        "id": "jNOApRfgwpYI",
        "colab": {
          "base_uri": "https://localhost:8080/",
          "height": 520
        },
        "outputId": "7a0b2441-c1fc-4e44-b098-94e08e1ad94a"
      },
      "execution_count": null,
      "outputs": [
        {
          "output_type": "execute_result",
          "data": {
            "text/html": [
              "\n",
              "  <div id=\"df-8746b149-1259-4831-8af3-c03613910a66\">\n",
              "    <div class=\"colab-df-container\">\n",
              "      <div>\n",
              "<style scoped>\n",
              "    .dataframe tbody tr th:only-of-type {\n",
              "        vertical-align: middle;\n",
              "    }\n",
              "\n",
              "    .dataframe tbody tr th {\n",
              "        vertical-align: top;\n",
              "    }\n",
              "\n",
              "    .dataframe thead th {\n",
              "        text-align: right;\n",
              "    }\n",
              "</style>\n",
              "<table border=\"1\" class=\"dataframe\">\n",
              "  <thead>\n",
              "    <tr style=\"text-align: right;\">\n",
              "      <th></th>\n",
              "      <th>words</th>\n",
              "      <th>weights</th>\n",
              "    </tr>\n",
              "  </thead>\n",
              "  <tbody>\n",
              "    <tr>\n",
              "      <th>11750</th>\n",
              "      <td>perfect</td>\n",
              "      <td>1.868954</td>\n",
              "    </tr>\n",
              "    <tr>\n",
              "      <th>2065</th>\n",
              "      <td>best</td>\n",
              "      <td>1.706608</td>\n",
              "    </tr>\n",
              "    <tr>\n",
              "      <th>1007</th>\n",
              "      <td>amazing</td>\n",
              "      <td>1.622003</td>\n",
              "    </tr>\n",
              "    <tr>\n",
              "      <th>4697</th>\n",
              "      <td>delicious</td>\n",
              "      <td>1.541110</td>\n",
              "    </tr>\n",
              "    <tr>\n",
              "      <th>7393</th>\n",
              "      <td>great</td>\n",
              "      <td>1.539018</td>\n",
              "    </tr>\n",
              "    <tr>\n",
              "      <th>5994</th>\n",
              "      <td>excellent</td>\n",
              "      <td>1.528014</td>\n",
              "    </tr>\n",
              "    <tr>\n",
              "      <th>14684</th>\n",
              "      <td>smooth</td>\n",
              "      <td>1.474561</td>\n",
              "    </tr>\n",
              "    <tr>\n",
              "      <th>10797</th>\n",
              "      <td>nice</td>\n",
              "      <td>1.452033</td>\n",
              "    </tr>\n",
              "    <tr>\n",
              "      <th>12032</th>\n",
              "      <td>pleased</td>\n",
              "      <td>1.434054</td>\n",
              "    </tr>\n",
              "    <tr>\n",
              "      <th>7886</th>\n",
              "      <td>highly</td>\n",
              "      <td>1.384688</td>\n",
              "    </tr>\n",
              "    <tr>\n",
              "      <th>16089</th>\n",
              "      <td>thank</td>\n",
              "      <td>1.302699</td>\n",
              "    </tr>\n",
              "    <tr>\n",
              "      <th>13124</th>\n",
              "      <td>refreshing</td>\n",
              "      <td>1.227967</td>\n",
              "    </tr>\n",
              "    <tr>\n",
              "      <th>10152</th>\n",
              "      <td>microwave</td>\n",
              "      <td>1.206086</td>\n",
              "    </tr>\n",
              "    <tr>\n",
              "      <th>17762</th>\n",
              "      <td>wonderful</td>\n",
              "      <td>1.201226</td>\n",
              "    </tr>\n",
              "    <tr>\n",
              "      <th>15340</th>\n",
              "      <td>stores</td>\n",
              "      <td>1.118308</td>\n",
              "    </tr>\n",
              "  </tbody>\n",
              "</table>\n",
              "</div>\n",
              "      <button class=\"colab-df-convert\" onclick=\"convertToInteractive('df-8746b149-1259-4831-8af3-c03613910a66')\"\n",
              "              title=\"Convert this dataframe to an interactive table.\"\n",
              "              style=\"display:none;\">\n",
              "        \n",
              "  <svg xmlns=\"http://www.w3.org/2000/svg\" height=\"24px\"viewBox=\"0 0 24 24\"\n",
              "       width=\"24px\">\n",
              "    <path d=\"M0 0h24v24H0V0z\" fill=\"none\"/>\n",
              "    <path d=\"M18.56 5.44l.94 2.06.94-2.06 2.06-.94-2.06-.94-.94-2.06-.94 2.06-2.06.94zm-11 1L8.5 8.5l.94-2.06 2.06-.94-2.06-.94L8.5 2.5l-.94 2.06-2.06.94zm10 10l.94 2.06.94-2.06 2.06-.94-2.06-.94-.94-2.06-.94 2.06-2.06.94z\"/><path d=\"M17.41 7.96l-1.37-1.37c-.4-.4-.92-.59-1.43-.59-.52 0-1.04.2-1.43.59L10.3 9.45l-7.72 7.72c-.78.78-.78 2.05 0 2.83L4 21.41c.39.39.9.59 1.41.59.51 0 1.02-.2 1.41-.59l7.78-7.78 2.81-2.81c.8-.78.8-2.07 0-2.86zM5.41 20L4 18.59l7.72-7.72 1.47 1.35L5.41 20z\"/>\n",
              "  </svg>\n",
              "      </button>\n",
              "      \n",
              "  <style>\n",
              "    .colab-df-container {\n",
              "      display:flex;\n",
              "      flex-wrap:wrap;\n",
              "      gap: 12px;\n",
              "    }\n",
              "\n",
              "    .colab-df-convert {\n",
              "      background-color: #E8F0FE;\n",
              "      border: none;\n",
              "      border-radius: 50%;\n",
              "      cursor: pointer;\n",
              "      display: none;\n",
              "      fill: #1967D2;\n",
              "      height: 32px;\n",
              "      padding: 0 0 0 0;\n",
              "      width: 32px;\n",
              "    }\n",
              "\n",
              "    .colab-df-convert:hover {\n",
              "      background-color: #E2EBFA;\n",
              "      box-shadow: 0px 1px 2px rgba(60, 64, 67, 0.3), 0px 1px 3px 1px rgba(60, 64, 67, 0.15);\n",
              "      fill: #174EA6;\n",
              "    }\n",
              "\n",
              "    [theme=dark] .colab-df-convert {\n",
              "      background-color: #3B4455;\n",
              "      fill: #D2E3FC;\n",
              "    }\n",
              "\n",
              "    [theme=dark] .colab-df-convert:hover {\n",
              "      background-color: #434B5C;\n",
              "      box-shadow: 0px 1px 3px 1px rgba(0, 0, 0, 0.15);\n",
              "      filter: drop-shadow(0px 1px 2px rgba(0, 0, 0, 0.3));\n",
              "      fill: #FFFFFF;\n",
              "    }\n",
              "  </style>\n",
              "\n",
              "      <script>\n",
              "        const buttonEl =\n",
              "          document.querySelector('#df-8746b149-1259-4831-8af3-c03613910a66 button.colab-df-convert');\n",
              "        buttonEl.style.display =\n",
              "          google.colab.kernel.accessAllowed ? 'block' : 'none';\n",
              "\n",
              "        async function convertToInteractive(key) {\n",
              "          const element = document.querySelector('#df-8746b149-1259-4831-8af3-c03613910a66');\n",
              "          const dataTable =\n",
              "            await google.colab.kernel.invokeFunction('convertToInteractive',\n",
              "                                                     [key], {});\n",
              "          if (!dataTable) return;\n",
              "\n",
              "          const docLinkHtml = 'Like what you see? Visit the ' +\n",
              "            '<a target=\"_blank\" href=https://colab.research.google.com/notebooks/data_table.ipynb>data table notebook</a>'\n",
              "            + ' to learn more about interactive tables.';\n",
              "          element.innerHTML = '';\n",
              "          dataTable['output_type'] = 'display_data';\n",
              "          await google.colab.output.renderOutput(dataTable, element);\n",
              "          const docLink = document.createElement('div');\n",
              "          docLink.innerHTML = docLinkHtml;\n",
              "          element.appendChild(docLink);\n",
              "        }\n",
              "      </script>\n",
              "    </div>\n",
              "  </div>\n",
              "  "
            ],
            "text/plain": [
              "            words   weights\n",
              "11750     perfect  1.868954\n",
              "2065         best  1.706608\n",
              "1007      amazing  1.622003\n",
              "4697    delicious  1.541110\n",
              "7393        great  1.539018\n",
              "5994    excellent  1.528014\n",
              "14684      smooth  1.474561\n",
              "10797        nice  1.452033\n",
              "12032     pleased  1.434054\n",
              "7886       highly  1.384688\n",
              "16089       thank  1.302699\n",
              "13124  refreshing  1.227967\n",
              "10152   microwave  1.206086\n",
              "17762   wonderful  1.201226\n",
              "15340      stores  1.118308"
            ]
          },
          "metadata": {},
          "execution_count": 53
        }
      ]
    },
    {
      "cell_type": "code",
      "source": [
        "lr_weights.sort_values(['weights'], ascending = False)[-15:] # top-15 more important features for negative reviews"
      ],
      "metadata": {
        "id": "Era7vI6ow2RE",
        "colab": {
          "base_uri": "https://localhost:8080/",
          "height": 520
        },
        "outputId": "f45b2d32-989c-4ae4-a21d-afe153519cf0"
      },
      "execution_count": null,
      "outputs": [
        {
          "output_type": "execute_result",
          "data": {
            "text/html": [
              "\n",
              "  <div id=\"df-11324207-adf7-4af4-ac2c-49e0fd298a6f\">\n",
              "    <div class=\"colab-df-container\">\n",
              "      <div>\n",
              "<style scoped>\n",
              "    .dataframe tbody tr th:only-of-type {\n",
              "        vertical-align: middle;\n",
              "    }\n",
              "\n",
              "    .dataframe tbody tr th {\n",
              "        vertical-align: top;\n",
              "    }\n",
              "\n",
              "    .dataframe thead th {\n",
              "        text-align: right;\n",
              "    }\n",
              "</style>\n",
              "<table border=\"1\" class=\"dataframe\">\n",
              "  <thead>\n",
              "    <tr style=\"text-align: right;\">\n",
              "      <th></th>\n",
              "      <th>words</th>\n",
              "      <th>weights</th>\n",
              "    </tr>\n",
              "  </thead>\n",
              "  <tbody>\n",
              "    <tr>\n",
              "      <th>10580</th>\n",
              "      <td>mushy</td>\n",
              "      <td>-1.240478</td>\n",
              "    </tr>\n",
              "    <tr>\n",
              "      <th>2849</th>\n",
              "      <td>cans</td>\n",
              "      <td>-1.245371</td>\n",
              "    </tr>\n",
              "    <tr>\n",
              "      <th>16051</th>\n",
              "      <td>terrible</td>\n",
              "      <td>-1.263497</td>\n",
              "    </tr>\n",
              "    <tr>\n",
              "      <th>8433</th>\n",
              "      <td>ingredient</td>\n",
              "      <td>-1.285515</td>\n",
              "    </tr>\n",
              "    <tr>\n",
              "      <th>16196</th>\n",
              "      <td>thought</td>\n",
              "      <td>-1.320993</td>\n",
              "    </tr>\n",
              "    <tr>\n",
              "      <th>10291</th>\n",
              "      <td>miss</td>\n",
              "      <td>-1.330503</td>\n",
              "    </tr>\n",
              "    <tr>\n",
              "      <th>7465</th>\n",
              "      <td>grounds</td>\n",
              "      <td>-1.389290</td>\n",
              "    </tr>\n",
              "    <tr>\n",
              "      <th>17813</th>\n",
              "      <td>worst</td>\n",
              "      <td>-1.447968</td>\n",
              "    </tr>\n",
              "    <tr>\n",
              "      <th>17469</th>\n",
              "      <td>weak</td>\n",
              "      <td>-1.549636</td>\n",
              "    </tr>\n",
              "    <tr>\n",
              "      <th>13478</th>\n",
              "      <td>return</td>\n",
              "      <td>-1.574587</td>\n",
              "    </tr>\n",
              "    <tr>\n",
              "      <th>17973</th>\n",
              "      <td>yuck</td>\n",
              "      <td>-1.576188</td>\n",
              "    </tr>\n",
              "    <tr>\n",
              "      <th>1512</th>\n",
              "      <td>awful</td>\n",
              "      <td>-1.665968</td>\n",
              "    </tr>\n",
              "    <tr>\n",
              "      <th>8014</th>\n",
              "      <td>horrible</td>\n",
              "      <td>-1.704382</td>\n",
              "    </tr>\n",
              "    <tr>\n",
              "      <th>5027</th>\n",
              "      <td>disappointed</td>\n",
              "      <td>-1.751777</td>\n",
              "    </tr>\n",
              "    <tr>\n",
              "      <th>5028</th>\n",
              "      <td>disappointing</td>\n",
              "      <td>-2.047579</td>\n",
              "    </tr>\n",
              "  </tbody>\n",
              "</table>\n",
              "</div>\n",
              "      <button class=\"colab-df-convert\" onclick=\"convertToInteractive('df-11324207-adf7-4af4-ac2c-49e0fd298a6f')\"\n",
              "              title=\"Convert this dataframe to an interactive table.\"\n",
              "              style=\"display:none;\">\n",
              "        \n",
              "  <svg xmlns=\"http://www.w3.org/2000/svg\" height=\"24px\"viewBox=\"0 0 24 24\"\n",
              "       width=\"24px\">\n",
              "    <path d=\"M0 0h24v24H0V0z\" fill=\"none\"/>\n",
              "    <path d=\"M18.56 5.44l.94 2.06.94-2.06 2.06-.94-2.06-.94-.94-2.06-.94 2.06-2.06.94zm-11 1L8.5 8.5l.94-2.06 2.06-.94-2.06-.94L8.5 2.5l-.94 2.06-2.06.94zm10 10l.94 2.06.94-2.06 2.06-.94-2.06-.94-.94-2.06-.94 2.06-2.06.94z\"/><path d=\"M17.41 7.96l-1.37-1.37c-.4-.4-.92-.59-1.43-.59-.52 0-1.04.2-1.43.59L10.3 9.45l-7.72 7.72c-.78.78-.78 2.05 0 2.83L4 21.41c.39.39.9.59 1.41.59.51 0 1.02-.2 1.41-.59l7.78-7.78 2.81-2.81c.8-.78.8-2.07 0-2.86zM5.41 20L4 18.59l7.72-7.72 1.47 1.35L5.41 20z\"/>\n",
              "  </svg>\n",
              "      </button>\n",
              "      \n",
              "  <style>\n",
              "    .colab-df-container {\n",
              "      display:flex;\n",
              "      flex-wrap:wrap;\n",
              "      gap: 12px;\n",
              "    }\n",
              "\n",
              "    .colab-df-convert {\n",
              "      background-color: #E8F0FE;\n",
              "      border: none;\n",
              "      border-radius: 50%;\n",
              "      cursor: pointer;\n",
              "      display: none;\n",
              "      fill: #1967D2;\n",
              "      height: 32px;\n",
              "      padding: 0 0 0 0;\n",
              "      width: 32px;\n",
              "    }\n",
              "\n",
              "    .colab-df-convert:hover {\n",
              "      background-color: #E2EBFA;\n",
              "      box-shadow: 0px 1px 2px rgba(60, 64, 67, 0.3), 0px 1px 3px 1px rgba(60, 64, 67, 0.15);\n",
              "      fill: #174EA6;\n",
              "    }\n",
              "\n",
              "    [theme=dark] .colab-df-convert {\n",
              "      background-color: #3B4455;\n",
              "      fill: #D2E3FC;\n",
              "    }\n",
              "\n",
              "    [theme=dark] .colab-df-convert:hover {\n",
              "      background-color: #434B5C;\n",
              "      box-shadow: 0px 1px 3px 1px rgba(0, 0, 0, 0.15);\n",
              "      filter: drop-shadow(0px 1px 2px rgba(0, 0, 0, 0.3));\n",
              "      fill: #FFFFFF;\n",
              "    }\n",
              "  </style>\n",
              "\n",
              "      <script>\n",
              "        const buttonEl =\n",
              "          document.querySelector('#df-11324207-adf7-4af4-ac2c-49e0fd298a6f button.colab-df-convert');\n",
              "        buttonEl.style.display =\n",
              "          google.colab.kernel.accessAllowed ? 'block' : 'none';\n",
              "\n",
              "        async function convertToInteractive(key) {\n",
              "          const element = document.querySelector('#df-11324207-adf7-4af4-ac2c-49e0fd298a6f');\n",
              "          const dataTable =\n",
              "            await google.colab.kernel.invokeFunction('convertToInteractive',\n",
              "                                                     [key], {});\n",
              "          if (!dataTable) return;\n",
              "\n",
              "          const docLinkHtml = 'Like what you see? Visit the ' +\n",
              "            '<a target=\"_blank\" href=https://colab.research.google.com/notebooks/data_table.ipynb>data table notebook</a>'\n",
              "            + ' to learn more about interactive tables.';\n",
              "          element.innerHTML = '';\n",
              "          dataTable['output_type'] = 'display_data';\n",
              "          await google.colab.output.renderOutput(dataTable, element);\n",
              "          const docLink = document.createElement('div');\n",
              "          docLink.innerHTML = docLinkHtml;\n",
              "          element.appendChild(docLink);\n",
              "        }\n",
              "      </script>\n",
              "    </div>\n",
              "  </div>\n",
              "  "
            ],
            "text/plain": [
              "               words   weights\n",
              "10580          mushy -1.240478\n",
              "2849            cans -1.245371\n",
              "16051       terrible -1.263497\n",
              "8433      ingredient -1.285515\n",
              "16196        thought -1.320993\n",
              "10291           miss -1.330503\n",
              "7465         grounds -1.389290\n",
              "17813          worst -1.447968\n",
              "17469           weak -1.549636\n",
              "13478         return -1.574587\n",
              "17973           yuck -1.576188\n",
              "1512           awful -1.665968\n",
              "8014        horrible -1.704382\n",
              "5027    disappointed -1.751777\n",
              "5028   disappointing -2.047579"
            ]
          },
          "metadata": {},
          "execution_count": 54
        }
      ]
    },
    {
      "cell_type": "code",
      "source": [
        "from sklearn.metrics import confusion_matrix\n",
        "from sklearn.metrics import classification_report\n",
        "cm=confusion_matrix(y_test_bow,test_pred_lr_all)\n",
        "print(cm)"
      ],
      "metadata": {
        "colab": {
          "base_uri": "https://localhost:8080/"
        },
        "id": "4ArxVRf83GQo",
        "outputId": "6df82a81-22b4-4cbb-808e-7a1fc6a5db68"
      },
      "execution_count": null,
      "outputs": [
        {
          "output_type": "stream",
          "name": "stdout",
          "text": [
            "[[ 165  124]\n",
            " [  66 1390]]\n"
          ]
        }
      ]
    },
    {
      "cell_type": "code",
      "source": [
        "plt.clf()\n",
        "plt.imshow(cm, interpolation='nearest', cmap=plt.cm.Wistia)\n",
        "classNames = ['Negative','Positive']\n",
        "plt.title('SENTIMENT ANALYSIS (LOGISTIC REGRESSION)')\n",
        "plt.ylabel('True label')\n",
        "plt.xlabel('Predicted label')\n",
        "tick_marks = np.arange(len(classNames))\n",
        "plt.xticks(tick_marks, classNames, rotation=45)\n",
        "plt.yticks(tick_marks, classNames)\n",
        "s = [['TN','FP'], ['FN', 'TP']]\n",
        "for i in range(2):\n",
        "    for j in range(2):\n",
        "        plt.text(j,i, str(s[i][j])+\" = \"+str(cm[i][j]))\n",
        "plt.show()"
      ],
      "metadata": {
        "colab": {
          "base_uri": "https://localhost:8080/",
          "height": 324
        },
        "id": "IrbVQN8j3HSW",
        "outputId": "7d1662a7-a605-4cc4-9a2d-48303a380063"
      },
      "execution_count": null,
      "outputs": [
        {
          "output_type": "display_data",
          "data": {
            "image/png": "[encoded data removed]",
            "text/plain": [
              "<Figure size 432x288 with 1 Axes>"
            ]
          },
          "metadata": {
            "needs_background": "light"
          }
        }
      ]
    },
    {
      "cell_type": "markdown",
      "source": [
        "APPLYING RANDOM FOREST USING TF-IDF"
      ],
      "metadata": {
        "id": "yR4aMZnvzywx"
      }
    },
    {
      "cell_type": "code",
      "source": [
        "from sklearn.feature_extraction.text import TfidfVectorizer\n",
        "\n",
        "### Creating a python object of the class CountVectorizer\n",
        "tfidf_counts = TfidfVectorizer(tokenizer= word_tokenize, # type of tokenization\n",
        "                               stop_words=noise_words, # List of stopwords\n",
        "                               ngram_range=(1,1)) # number of n-grams\n",
        "\n",
        "tfidf_data = tfidf_counts.fit_transform(amazon_reviews['reviews_text_new'])\n",
        "tfidf_data"
      ],
      "metadata": {
        "colab": {
          "base_uri": "https://localhost:8080/"
        },
        "id": "TylJLKL-xnVP",
        "outputId": "74dcd4ea-12fe-43cd-d4ad-f0b9d3feb7c4"
      },
      "execution_count": null,
      "outputs": [
        {
          "output_type": "execute_result",
          "data": {
            "text/plain": [
              "<8723x22865 sparse matrix of type '<class 'numpy.float64'>'\n",
              "\twith 506429 stored elements in Compressed Sparse Row format>"
            ]
          },
          "metadata": {},
          "execution_count": 70
        }
      ]
    },
    {
      "cell_type": "code",
      "source": [
        "X_train_tfidf, X_test_tfidf, y_train_tfidf, y_test_tfidf = train_test_split(tfidf_data,\n",
        "                                                                            amazon_reviews['Sentiment_rating'],\n",
        "                                                                            test_size = 0.2,\n",
        "                                                                            random_state = 0)"
      ],
      "metadata": {
        "id": "hVIw2aWiyXDl"
      },
      "execution_count": null,
      "outputs": []
    },
    {
      "cell_type": "code",
      "source": [
        " from sklearn.metrics import precision_score,recall_score\n",
        "### Setting up the model class\n",
        "lr_model_tf_idf = RandomForestClassifier()\n",
        "\n",
        "## Training the model\n",
        "lr_model_tf_idf.fit(X_train_tfidf,y_train_tfidf)\n",
        "\n",
        "## Prediciting the results\n",
        "test_pred_lr_all = lr_model_tf_idf.predict(X_test_tfidf)\n",
        "\n"
      ],
      "metadata": {
        "colab": {
          "base_uri": "https://localhost:8080/"
        },
        "id": "2A_3lpNXxWpd",
        "outputId": "3295920f-40f1-4229-9249-d8c5f09801b7"
      },
      "execution_count": null,
      "outputs": [
        {
          "output_type": "stream",
          "name": "stdout",
          "text": [
            "F1 score:  0.9122807017543859\n",
            "Precision: 0.839\n",
            "Recall: 1.000\n",
            "Accuracy: 0.840\n"
          ]
        }
      ]
    },
    {
      "cell_type": "markdown",
      "source": [],
      "metadata": {
        "id": "f81svhxOaIzH"
      }
    },
    {
      "cell_type": "markdown",
      "source": [
        "EVALUATING THE MODEL"
      ],
      "metadata": {
        "id": "cbf3S-ZosjYD"
      }
    },
    {
      "cell_type": "code",
      "source": [
        "## Evaluating the model\n",
        "print(\"F1 score: \",f1_score(y_test_bow, test_pred_lr_all))\n",
        "print('Precision: %.3f' % precision_score(y_test_tfidf,test_pred_lr_all))\n",
        "print('Recall: %.3f' % recall_score(y_test_tfidf,test_pred_lr_all))\n",
        "print('Accuracy: %.3f' % accuracy_score(y_test_tfidf,test_pred_lr_all))"
      ],
      "metadata": {
        "colab": {
          "base_uri": "https://localhost:8080/"
        },
        "id": "Ud9QYmeTsh2G",
        "outputId": "912cd5c7-b21f-417d-f032-6cc70cbe6cd5"
      },
      "execution_count": null,
      "outputs": [
        {
          "output_type": "stream",
          "name": "stdout",
          "text": [
            "F1 score:  0.936026936026936\n",
            "Precision: 0.918\n",
            "Recall: 0.955\n",
            "Accuracy: 0.891\n"
          ]
        }
      ]
    },
    {
      "cell_type": "code",
      "source": [
        "from sklearn.metrics import confusion_matrix\n",
        "from sklearn.metrics import classification_report\n",
        "cm=confusion_matrix(y_test_tfidf,test_pred_lr_all)\n",
        "print(cm)"
      ],
      "metadata": {
        "colab": {
          "base_uri": "https://localhost:8080/"
        },
        "id": "5xLSxSZv0ZLp",
        "outputId": "a33bdb0c-0336-4263-e9ba-058ab1b864d7"
      },
      "execution_count": null,
      "outputs": [
        {
          "output_type": "stream",
          "name": "stdout",
          "text": [
            "[[  14  275]\n",
            " [   0 1456]]\n"
          ]
        }
      ]
    },
    {
      "cell_type": "code",
      "source": [
        "plt.clf()\n",
        "plt.imshow(cm, interpolation='nearest', cmap=plt.cm.Wistia)\n",
        "classNames = ['Negative','Positive']\n",
        "plt.title('SENTIMENT ANALYSIS (RANDOM FOREST)')\n",
        "plt.ylabel('True label')\n",
        "plt.xlabel('Predicted label')\n",
        "tick_marks = np.arange(len(classNames))\n",
        "plt.xticks(tick_marks, classNames, rotation=45)\n",
        "plt.yticks(tick_marks, classNames)\n",
        "s = [['TN','FP'], ['FN', 'TP']]\n",
        "for i in range(2):\n",
        "    for j in range(2):\n",
        "        plt.text(j,i, str(s[i][j])+\" = \"+str(cm[i][j]))\n",
        "plt.show()"
      ],
      "metadata": {
        "colab": {
          "base_uri": "https://localhost:8080/",
          "height": 324
        },
        "id": "ROqodYbQ08rL",
        "outputId": "3bfab200-a9fe-4337-899b-44151f8cac2f"
      },
      "execution_count": null,
      "outputs": [
        {
          "output_type": "display_data",
          "data": {
            "image/png": "[encoded data removed]",
            "text/plain": [
              "<Figure size 432x288 with 1 Axes>"
            ]
          },
          "metadata": {
            "needs_background": "light"
          }
        }
      ]
    }
  ]
}