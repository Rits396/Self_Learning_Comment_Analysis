{
  "nbformat": 4,
  "nbformat_minor": 0,
  "metadata": {
    "colab": {
      "provenance": [],
      "authorship_tag": "ABX9TyM6qugQYnViyWz8X6I8SOUb",
      "include_colab_link": true
    },
    "kernelspec": {
      "name": "python3",
      "display_name": "Python 3"
    },
    "language_info": {
      "name": "python"
    }
  },
  "cells": [
    {
      "cell_type": "markdown",
      "metadata": {
        "id": "view-in-github",
        "colab_type": "text"
      },
      "source": [
        "<a href=\"https://colab.research.google.com/github/Rits396/Self_Learning_Comment_Analysis/blob/main/MITIGATING_BIASES.ipynb\" target=\"_parent\"><img src=\"https://colab.research.google.com/assets/colab-badge.svg\" alt=\"Open In Colab\"/></a>"
      ]
    },
    {
      "cell_type": "markdown",
      "source": [
        "## **A. Balanced Data Sampling**\n",
        "\n",
        "This code demonstrates how balancing techniques like SMOTE can help address the problem of class imbalance:\n",
        "\n",
        "Initial Model (imbalanced data) shows poor performance on the minority class (class 1).\n",
        "Updated Model (balanced with SMOTE) improves performance, particularly in recall and F1 score, for the minority class."
      ],
      "metadata": {
        "id": "xj_hr4env9Mt"
      }
    },
    {
      "cell_type": "markdown",
      "source": [
        "**Step 1: Import Libraries**\n",
        "\n",
        "imports essential libraries:\n",
        "\n",
        "Numpy and Pandas: For data manipulation.\n",
        "Matplotlib and Seaborn: For visualizing data and model results.\n",
        "Scikit-learn tools: For building a classification model, splitting data, and evaluating model performance.\n",
        "Imbalanced-learn (imblearn): Specifically for SMOTE, which will help us balance our dataset."
      ],
      "metadata": {
        "id": "Olu0sJWWv47P"
      }
    },
    {
      "cell_type": "code",
      "source": [
        "import numpy as np\n",
        "import pandas as pd\n",
        "import matplotlib.pyplot as plt\n",
        "import seaborn as sns\n",
        "from sklearn.model_selection import train_test_split\n",
        "from sklearn.ensemble import RandomForestClassifier\n",
        "from sklearn.metrics import accuracy_score, classification_report\n",
        "from imblearn.over_sampling import SMOTE  # For over-sampling\n",
        "from imblearn.under_sampling import RandomUnderSampler  # For under-sampling\n"
      ],
      "metadata": {
        "id": "EhA_KCBDwL__"
      },
      "execution_count": null,
      "outputs": []
    },
    {
      "cell_type": "markdown",
      "source": [
        "**Step 2: Create a Synthetic Imbalanced Dataset**\n",
        "Here:\n",
        "\n",
        "We set a seed (np.random.seed(42)) to ensure results are reproducible.\n",
        "We create a synthetic dataset with 1000 samples and two features. The label column represents our target variable, with 90% of samples belonging to class 0 and only 10% to class 1, creating a highly imbalanced dataset."
      ],
      "metadata": {
        "id": "qhx08bYtwN8Z"
      }
    },
    {
      "cell_type": "code",
      "source": [
        "# Set random seed for reproducibility\n",
        "np.random.seed(42)\n",
        "\n",
        "# Create synthetic imbalanced dataset\n",
        "n_samples = 1000\n",
        "data = {\n",
        "    'feature_1': np.random.rand(n_samples),\n",
        "    'feature_2': np.random.rand(n_samples),\n",
        "    'label': np.random.choice([0, 1], n_samples, p=[0.9, 0.1])  # 90% of class 0 and 10% of class 1\n",
        "}\n",
        "df = pd.DataFrame(data)\n"
      ],
      "metadata": {
        "id": "AV4X9xoqwUhq"
      },
      "execution_count": null,
      "outputs": []
    },
    {
      "cell_type": "markdown",
      "source": [
        "**Step 3: Split the Dataset into Training and Test Sets**\n",
        "The data is split into training and test sets, with 20% of data reserved for testing.\n",
        "This split helps us evaluate the model’s performance on unseen data."
      ],
      "metadata": {
        "id": "ndIjLfYMwWum"
      }
    },
    {
      "cell_type": "code",
      "source": [
        "# Split the dataset into training and test sets\n",
        "X = df[['feature_1', 'feature_2']]\n",
        "y = df['label']\n",
        "X_train, X_test, y_train, y_test = train_test_split(X, y, test_size=0.2, random_state=42)\n"
      ],
      "metadata": {
        "id": "Mzi1coRlwgOs"
      },
      "execution_count": null,
      "outputs": []
    },
    {
      "cell_type": "markdown",
      "source": [
        "**Step 4: Train an Initial Model on the Imbalanced Data**\n",
        "A Random Forest Classifier is trained on the imbalanced dataset. Since the classes are imbalanced, the model might tend to predict the majority class (0) more often, resulting in poor performance on the minority class (1)."
      ],
      "metadata": {
        "id": "vgUbvzXJwjZN"
      }
    },
    {
      "cell_type": "code",
      "source": [
        "# Train the initial model on the imbalanced dataset\n",
        "model_initial = RandomForestClassifier(random_state=42)\n",
        "model_initial.fit(X_train, y_train)\n"
      ],
      "metadata": {
        "colab": {
          "base_uri": "https://localhost:8080/",
          "height": 80
        },
        "id": "Fw-cbZkZwoUu",
        "outputId": "879c93f7-ddb7-4535-d1bc-7edb6115f38f"
      },
      "execution_count": null,
      "outputs": [
        {
          "output_type": "execute_result",
          "data": {
            "text/plain": [
              "RandomForestClassifier(random_state=42)"
            ],
            "text/html": [
              "<style>#sk-container-id-1 {\n",
              "  /* Definition of color scheme common for light and dark mode */\n",
              "  --sklearn-color-text: black;\n",
              "  --sklearn-color-line: gray;\n",
              "  /* Definition of color scheme for unfitted estimators */\n",
              "  --sklearn-color-unfitted-level-0: #fff5e6;\n",
              "  --sklearn-color-unfitted-level-1: #f6e4d2;\n",
              "  --sklearn-color-unfitted-level-2: #ffe0b3;\n",
              "  --sklearn-color-unfitted-level-3: chocolate;\n",
              "  /* Definition of color scheme for fitted estimators */\n",
              "  --sklearn-color-fitted-level-0: #f0f8ff;\n",
              "  --sklearn-color-fitted-level-1: #d4ebff;\n",
              "  --sklearn-color-fitted-level-2: #b3dbfd;\n",
              "  --sklearn-color-fitted-level-3: cornflowerblue;\n",
              "\n",
              "  /* Specific color for light theme */\n",
              "  --sklearn-color-text-on-default-background: var(--sg-text-color, var(--theme-code-foreground, var(--jp-content-font-color1, black)));\n",
              "  --sklearn-color-background: var(--sg-background-color, var(--theme-background, var(--jp-layout-color0, white)));\n",
              "  --sklearn-color-border-box: var(--sg-text-color, var(--theme-code-foreground, var(--jp-content-font-color1, black)));\n",
              "  --sklearn-color-icon: #696969;\n",
              "\n",
              "  @media (prefers-color-scheme: dark) {\n",
              "    /* Redefinition of color scheme for dark theme */\n",
              "    --sklearn-color-text-on-default-background: var(--sg-text-color, var(--theme-code-foreground, var(--jp-content-font-color1, white)));\n",
              "    --sklearn-color-background: var(--sg-background-color, var(--theme-background, var(--jp-layout-color0, #111)));\n",
              "    --sklearn-color-border-box: var(--sg-text-color, var(--theme-code-foreground, var(--jp-content-font-color1, white)));\n",
              "    --sklearn-color-icon: #878787;\n",
              "  }\n",
              "}\n",
              "\n",
              "#sk-container-id-1 {\n",
              "  color: var(--sklearn-color-text);\n",
              "}\n",
              "\n",
              "#sk-container-id-1 pre {\n",
              "  padding: 0;\n",
              "}\n",
              "\n",
              "#sk-container-id-1 input.sk-hidden--visually {\n",
              "  border: 0;\n",
              "  clip: rect(1px 1px 1px 1px);\n",
              "  clip: rect(1px, 1px, 1px, 1px);\n",
              "  height: 1px;\n",
              "  margin: -1px;\n",
              "  overflow: hidden;\n",
              "  padding: 0;\n",
              "  position: absolute;\n",
              "  width: 1px;\n",
              "}\n",
              "\n",
              "#sk-container-id-1 div.sk-dashed-wrapped {\n",
              "  border: 1px dashed var(--sklearn-color-line);\n",
              "  margin: 0 0.4em 0.5em 0.4em;\n",
              "  box-sizing: border-box;\n",
              "  padding-bottom: 0.4em;\n",
              "  background-color: var(--sklearn-color-background);\n",
              "}\n",
              "\n",
              "#sk-container-id-1 div.sk-container {\n",
              "  /* jupyter's `normalize.less` sets `[hidden] { display: none; }`\n",
              "     but bootstrap.min.css set `[hidden] { display: none !important; }`\n",
              "     so we also need the `!important` here to be able to override the\n",
              "     default hidden behavior on the sphinx rendered scikit-learn.org.\n",
              "     See: https://github.com/scikit-learn/scikit-learn/issues/21755 */\n",
              "  display: inline-block !important;\n",
              "  position: relative;\n",
              "}\n",
              "\n",
              "#sk-container-id-1 div.sk-text-repr-fallback {\n",
              "  display: none;\n",
              "}\n",
              "\n",
              "div.sk-parallel-item,\n",
              "div.sk-serial,\n",
              "div.sk-item {\n",
              "  /* draw centered vertical line to link estimators */\n",
              "  background-image: linear-gradient(var(--sklearn-color-text-on-default-background), var(--sklearn-color-text-on-default-background));\n",
              "  background-size: 2px 100%;\n",
              "  background-repeat: no-repeat;\n",
              "  background-position: center center;\n",
              "}\n",
              "\n",
              "/* Parallel-specific style estimator block */\n",
              "\n",
              "#sk-container-id-1 div.sk-parallel-item::after {\n",
              "  content: \"\";\n",
              "  width: 100%;\n",
              "  border-bottom: 2px solid var(--sklearn-color-text-on-default-background);\n",
              "  flex-grow: 1;\n",
              "}\n",
              "\n",
              "#sk-container-id-1 div.sk-parallel {\n",
              "  display: flex;\n",
              "  align-items: stretch;\n",
              "  justify-content: center;\n",
              "  background-color: var(--sklearn-color-background);\n",
              "  position: relative;\n",
              "}\n",
              "\n",
              "#sk-container-id-1 div.sk-parallel-item {\n",
              "  display: flex;\n",
              "  flex-direction: column;\n",
              "}\n",
              "\n",
              "#sk-container-id-1 div.sk-parallel-item:first-child::after {\n",
              "  align-self: flex-end;\n",
              "  width: 50%;\n",
              "}\n",
              "\n",
              "#sk-container-id-1 div.sk-parallel-item:last-child::after {\n",
              "  align-self: flex-start;\n",
              "  width: 50%;\n",
              "}\n",
              "\n",
              "#sk-container-id-1 div.sk-parallel-item:only-child::after {\n",
              "  width: 0;\n",
              "}\n",
              "\n",
              "/* Serial-specific style estimator block */\n",
              "\n",
              "#sk-container-id-1 div.sk-serial {\n",
              "  display: flex;\n",
              "  flex-direction: column;\n",
              "  align-items: center;\n",
              "  background-color: var(--sklearn-color-background);\n",
              "  padding-right: 1em;\n",
              "  padding-left: 1em;\n",
              "}\n",
              "\n",
              "\n",
              "/* Toggleable style: style used for estimator/Pipeline/ColumnTransformer box that is\n",
              "clickable and can be expanded/collapsed.\n",
              "- Pipeline and ColumnTransformer use this feature and define the default style\n",
              "- Estimators will overwrite some part of the style using the `sk-estimator` class\n",
              "*/\n",
              "\n",
              "/* Pipeline and ColumnTransformer style (default) */\n",
              "\n",
              "#sk-container-id-1 div.sk-toggleable {\n",
              "  /* Default theme specific background. It is overwritten whether we have a\n",
              "  specific estimator or a Pipeline/ColumnTransformer */\n",
              "  background-color: var(--sklearn-color-background);\n",
              "}\n",
              "\n",
              "/* Toggleable label */\n",
              "#sk-container-id-1 label.sk-toggleable__label {\n",
              "  cursor: pointer;\n",
              "  display: block;\n",
              "  width: 100%;\n",
              "  margin-bottom: 0;\n",
              "  padding: 0.5em;\n",
              "  box-sizing: border-box;\n",
              "  text-align: center;\n",
              "}\n",
              "\n",
              "#sk-container-id-1 label.sk-toggleable__label-arrow:before {\n",
              "  /* Arrow on the left of the label */\n",
              "  content: \"▸\";\n",
              "  float: left;\n",
              "  margin-right: 0.25em;\n",
              "  color: var(--sklearn-color-icon);\n",
              "}\n",
              "\n",
              "#sk-container-id-1 label.sk-toggleable__label-arrow:hover:before {\n",
              "  color: var(--sklearn-color-text);\n",
              "}\n",
              "\n",
              "/* Toggleable content - dropdown */\n",
              "\n",
              "#sk-container-id-1 div.sk-toggleable__content {\n",
              "  max-height: 0;\n",
              "  max-width: 0;\n",
              "  overflow: hidden;\n",
              "  text-align: left;\n",
              "  /* unfitted */\n",
              "  background-color: var(--sklearn-color-unfitted-level-0);\n",
              "}\n",
              "\n",
              "#sk-container-id-1 div.sk-toggleable__content.fitted {\n",
              "  /* fitted */\n",
              "  background-color: var(--sklearn-color-fitted-level-0);\n",
              "}\n",
              "\n",
              "#sk-container-id-1 div.sk-toggleable__content pre {\n",
              "  margin: 0.2em;\n",
              "  border-radius: 0.25em;\n",
              "  color: var(--sklearn-color-text);\n",
              "  /* unfitted */\n",
              "  background-color: var(--sklearn-color-unfitted-level-0);\n",
              "}\n",
              "\n",
              "#sk-container-id-1 div.sk-toggleable__content.fitted pre {\n",
              "  /* unfitted */\n",
              "  background-color: var(--sklearn-color-fitted-level-0);\n",
              "}\n",
              "\n",
              "#sk-container-id-1 input.sk-toggleable__control:checked~div.sk-toggleable__content {\n",
              "  /* Expand drop-down */\n",
              "  max-height: 200px;\n",
              "  max-width: 100%;\n",
              "  overflow: auto;\n",
              "}\n",
              "\n",
              "#sk-container-id-1 input.sk-toggleable__control:checked~label.sk-toggleable__label-arrow:before {\n",
              "  content: \"▾\";\n",
              "}\n",
              "\n",
              "/* Pipeline/ColumnTransformer-specific style */\n",
              "\n",
              "#sk-container-id-1 div.sk-label input.sk-toggleable__control:checked~label.sk-toggleable__label {\n",
              "  color: var(--sklearn-color-text);\n",
              "  background-color: var(--sklearn-color-unfitted-level-2);\n",
              "}\n",
              "\n",
              "#sk-container-id-1 div.sk-label.fitted input.sk-toggleable__control:checked~label.sk-toggleable__label {\n",
              "  background-color: var(--sklearn-color-fitted-level-2);\n",
              "}\n",
              "\n",
              "/* Estimator-specific style */\n",
              "\n",
              "/* Colorize estimator box */\n",
              "#sk-container-id-1 div.sk-estimator input.sk-toggleable__control:checked~label.sk-toggleable__label {\n",
              "  /* unfitted */\n",
              "  background-color: var(--sklearn-color-unfitted-level-2);\n",
              "}\n",
              "\n",
              "#sk-container-id-1 div.sk-estimator.fitted input.sk-toggleable__control:checked~label.sk-toggleable__label {\n",
              "  /* fitted */\n",
              "  background-color: var(--sklearn-color-fitted-level-2);\n",
              "}\n",
              "\n",
              "#sk-container-id-1 div.sk-label label.sk-toggleable__label,\n",
              "#sk-container-id-1 div.sk-label label {\n",
              "  /* The background is the default theme color */\n",
              "  color: var(--sklearn-color-text-on-default-background);\n",
              "}\n",
              "\n",
              "/* On hover, darken the color of the background */\n",
              "#sk-container-id-1 div.sk-label:hover label.sk-toggleable__label {\n",
              "  color: var(--sklearn-color-text);\n",
              "  background-color: var(--sklearn-color-unfitted-level-2);\n",
              "}\n",
              "\n",
              "/* Label box, darken color on hover, fitted */\n",
              "#sk-container-id-1 div.sk-label.fitted:hover label.sk-toggleable__label.fitted {\n",
              "  color: var(--sklearn-color-text);\n",
              "  background-color: var(--sklearn-color-fitted-level-2);\n",
              "}\n",
              "\n",
              "/* Estimator label */\n",
              "\n",
              "#sk-container-id-1 div.sk-label label {\n",
              "  font-family: monospace;\n",
              "  font-weight: bold;\n",
              "  display: inline-block;\n",
              "  line-height: 1.2em;\n",
              "}\n",
              "\n",
              "#sk-container-id-1 div.sk-label-container {\n",
              "  text-align: center;\n",
              "}\n",
              "\n",
              "/* Estimator-specific */\n",
              "#sk-container-id-1 div.sk-estimator {\n",
              "  font-family: monospace;\n",
              "  border: 1px dotted var(--sklearn-color-border-box);\n",
              "  border-radius: 0.25em;\n",
              "  box-sizing: border-box;\n",
              "  margin-bottom: 0.5em;\n",
              "  /* unfitted */\n",
              "  background-color: var(--sklearn-color-unfitted-level-0);\n",
              "}\n",
              "\n",
              "#sk-container-id-1 div.sk-estimator.fitted {\n",
              "  /* fitted */\n",
              "  background-color: var(--sklearn-color-fitted-level-0);\n",
              "}\n",
              "\n",
              "/* on hover */\n",
              "#sk-container-id-1 div.sk-estimator:hover {\n",
              "  /* unfitted */\n",
              "  background-color: var(--sklearn-color-unfitted-level-2);\n",
              "}\n",
              "\n",
              "#sk-container-id-1 div.sk-estimator.fitted:hover {\n",
              "  /* fitted */\n",
              "  background-color: var(--sklearn-color-fitted-level-2);\n",
              "}\n",
              "\n",
              "/* Specification for estimator info (e.g. \"i\" and \"?\") */\n",
              "\n",
              "/* Common style for \"i\" and \"?\" */\n",
              "\n",
              ".sk-estimator-doc-link,\n",
              "a:link.sk-estimator-doc-link,\n",
              "a:visited.sk-estimator-doc-link {\n",
              "  float: right;\n",
              "  font-size: smaller;\n",
              "  line-height: 1em;\n",
              "  font-family: monospace;\n",
              "  background-color: var(--sklearn-color-background);\n",
              "  border-radius: 1em;\n",
              "  height: 1em;\n",
              "  width: 1em;\n",
              "  text-decoration: none !important;\n",
              "  margin-left: 1ex;\n",
              "  /* unfitted */\n",
              "  border: var(--sklearn-color-unfitted-level-1) 1pt solid;\n",
              "  color: var(--sklearn-color-unfitted-level-1);\n",
              "}\n",
              "\n",
              ".sk-estimator-doc-link.fitted,\n",
              "a:link.sk-estimator-doc-link.fitted,\n",
              "a:visited.sk-estimator-doc-link.fitted {\n",
              "  /* fitted */\n",
              "  border: var(--sklearn-color-fitted-level-1) 1pt solid;\n",
              "  color: var(--sklearn-color-fitted-level-1);\n",
              "}\n",
              "\n",
              "/* On hover */\n",
              "div.sk-estimator:hover .sk-estimator-doc-link:hover,\n",
              ".sk-estimator-doc-link:hover,\n",
              "div.sk-label-container:hover .sk-estimator-doc-link:hover,\n",
              ".sk-estimator-doc-link:hover {\n",
              "  /* unfitted */\n",
              "  background-color: var(--sklearn-color-unfitted-level-3);\n",
              "  color: var(--sklearn-color-background);\n",
              "  text-decoration: none;\n",
              "}\n",
              "\n",
              "div.sk-estimator.fitted:hover .sk-estimator-doc-link.fitted:hover,\n",
              ".sk-estimator-doc-link.fitted:hover,\n",
              "div.sk-label-container:hover .sk-estimator-doc-link.fitted:hover,\n",
              ".sk-estimator-doc-link.fitted:hover {\n",
              "  /* fitted */\n",
              "  background-color: var(--sklearn-color-fitted-level-3);\n",
              "  color: var(--sklearn-color-background);\n",
              "  text-decoration: none;\n",
              "}\n",
              "\n",
              "/* Span, style for the box shown on hovering the info icon */\n",
              ".sk-estimator-doc-link span {\n",
              "  display: none;\n",
              "  z-index: 9999;\n",
              "  position: relative;\n",
              "  font-weight: normal;\n",
              "  right: .2ex;\n",
              "  padding: .5ex;\n",
              "  margin: .5ex;\n",
              "  width: min-content;\n",
              "  min-width: 20ex;\n",
              "  max-width: 50ex;\n",
              "  color: var(--sklearn-color-text);\n",
              "  box-shadow: 2pt 2pt 4pt #999;\n",
              "  /* unfitted */\n",
              "  background: var(--sklearn-color-unfitted-level-0);\n",
              "  border: .5pt solid var(--sklearn-color-unfitted-level-3);\n",
              "}\n",
              "\n",
              ".sk-estimator-doc-link.fitted span {\n",
              "  /* fitted */\n",
              "  background: var(--sklearn-color-fitted-level-0);\n",
              "  border: var(--sklearn-color-fitted-level-3);\n",
              "}\n",
              "\n",
              ".sk-estimator-doc-link:hover span {\n",
              "  display: block;\n",
              "}\n",
              "\n",
              "/* \"?\"-specific style due to the `<a>` HTML tag */\n",
              "\n",
              "#sk-container-id-1 a.estimator_doc_link {\n",
              "  float: right;\n",
              "  font-size: 1rem;\n",
              "  line-height: 1em;\n",
              "  font-family: monospace;\n",
              "  background-color: var(--sklearn-color-background);\n",
              "  border-radius: 1rem;\n",
              "  height: 1rem;\n",
              "  width: 1rem;\n",
              "  text-decoration: none;\n",
              "  /* unfitted */\n",
              "  color: var(--sklearn-color-unfitted-level-1);\n",
              "  border: var(--sklearn-color-unfitted-level-1) 1pt solid;\n",
              "}\n",
              "\n",
              "#sk-container-id-1 a.estimator_doc_link.fitted {\n",
              "  /* fitted */\n",
              "  border: var(--sklearn-color-fitted-level-1) 1pt solid;\n",
              "  color: var(--sklearn-color-fitted-level-1);\n",
              "}\n",
              "\n",
              "/* On hover */\n",
              "#sk-container-id-1 a.estimator_doc_link:hover {\n",
              "  /* unfitted */\n",
              "  background-color: var(--sklearn-color-unfitted-level-3);\n",
              "  color: var(--sklearn-color-background);\n",
              "  text-decoration: none;\n",
              "}\n",
              "\n",
              "#sk-container-id-1 a.estimator_doc_link.fitted:hover {\n",
              "  /* fitted */\n",
              "  background-color: var(--sklearn-color-fitted-level-3);\n",
              "}\n",
              "</style><div id=\"sk-container-id-1\" class=\"sk-top-container\"><div class=\"sk-text-repr-fallback\"><pre>RandomForestClassifier(random_state=42)</pre><b>In a Jupyter environment, please rerun this cell to show the HTML representation or trust the notebook. <br />On GitHub, the HTML representation is unable to render, please try loading this page with nbviewer.org.</b></div><div class=\"sk-container\" hidden><div class=\"sk-item\"><div class=\"sk-estimator fitted sk-toggleable\"><input class=\"sk-toggleable__control sk-hidden--visually\" id=\"sk-estimator-id-1\" type=\"checkbox\" checked><label for=\"sk-estimator-id-1\" class=\"sk-toggleable__label fitted sk-toggleable__label-arrow fitted\">&nbsp;&nbsp;RandomForestClassifier<a class=\"sk-estimator-doc-link fitted\" rel=\"noreferrer\" target=\"_blank\" href=\"https://scikit-learn.org/1.5/modules/generated/sklearn.ensemble.RandomForestClassifier.html\">?<span>Documentation for RandomForestClassifier</span></a><span class=\"sk-estimator-doc-link fitted\">i<span>Fitted</span></span></label><div class=\"sk-toggleable__content fitted\"><pre>RandomForestClassifier(random_state=42)</pre></div> </div></div></div></div>"
            ]
          },
          "metadata": {},
          "execution_count": 5
        }
      ]
    },
    {
      "cell_type": "markdown",
      "source": [
        "**Step 5: Evaluate Initial Model Performance**\n",
        "Predictions are made on the test set, and we evaluate performance using classification metrics like accuracy, precision, recall, and F1 score.\n",
        "These metrics are stored in initial_report and accuracy_initial. We expect the metrics for class 1 (minority class) to be relatively low.\n"
      ],
      "metadata": {
        "id": "8XrhK13XwsGN"
      }
    },
    {
      "cell_type": "code",
      "source": [
        "# Evaluate initial model performance\n",
        "y_pred_initial = model_initial.predict(X_test)\n",
        "initial_report = classification_report(y_test, y_pred_initial, output_dict=True)\n",
        "accuracy_initial = accuracy_score(y_test, y_pred_initial)\n"
      ],
      "metadata": {
        "id": "b39AmADJwv5L"
      },
      "execution_count": null,
      "outputs": []
    },
    {
      "cell_type": "markdown",
      "source": [
        "**Step 6: Apply SMOTE for Balanced Sampling**\n",
        "We apply SMOTE to the training data, which over-samples the minority class by generating synthetic examples. This makes the dataset balanced for the model.\n",
        "The newly balanced data is stored in X_train_balanced and y_train_balanced."
      ],
      "metadata": {
        "id": "snL4BBrZwy7u"
      }
    },
    {
      "cell_type": "code",
      "source": [
        "# Apply balanced sampling (over-sampling with SMOTE)\n",
        "smote = SMOTE(random_state=42)\n",
        "X_train_balanced, y_train_balanced = smote.fit_resample(X_train, y_train)\n"
      ],
      "metadata": {
        "id": "-qZx6LxYw3Kj"
      },
      "execution_count": null,
      "outputs": []
    },
    {
      "cell_type": "markdown",
      "source": [
        "**Step 7: Train an Updated Model on the Balanced Data**\n",
        "We train a new model on the balanced dataset created by SMOTE. By training on this balanced data, the model is better equipped to recognize patterns in both classes.\n",
        "\n"
      ],
      "metadata": {
        "id": "UeVKNQeZw6Km"
      }
    },
    {
      "cell_type": "code",
      "source": [
        "# Train the updated model on the balanced dataset\n",
        "model_updated = RandomForestClassifier(random_state=42)\n",
        "model_updated.fit(X_train_balanced, y_train_balanced)\n"
      ],
      "metadata": {
        "colab": {
          "base_uri": "https://localhost:8080/",
          "height": 80
        },
        "id": "i4KNfMDIxDhm",
        "outputId": "7b7c0e54-fd4f-434d-d1d8-6b874893505b"
      },
      "execution_count": null,
      "outputs": [
        {
          "output_type": "execute_result",
          "data": {
            "text/plain": [
              "RandomForestClassifier(random_state=42)"
            ],
            "text/html": [
              "<style>#sk-container-id-2 {\n",
              "  /* Definition of color scheme common for light and dark mode */\n",
              "  --sklearn-color-text: black;\n",
              "  --sklearn-color-line: gray;\n",
              "  /* Definition of color scheme for unfitted estimators */\n",
              "  --sklearn-color-unfitted-level-0: #fff5e6;\n",
              "  --sklearn-color-unfitted-level-1: #f6e4d2;\n",
              "  --sklearn-color-unfitted-level-2: #ffe0b3;\n",
              "  --sklearn-color-unfitted-level-3: chocolate;\n",
              "  /* Definition of color scheme for fitted estimators */\n",
              "  --sklearn-color-fitted-level-0: #f0f8ff;\n",
              "  --sklearn-color-fitted-level-1: #d4ebff;\n",
              "  --sklearn-color-fitted-level-2: #b3dbfd;\n",
              "  --sklearn-color-fitted-level-3: cornflowerblue;\n",
              "\n",
              "  /* Specific color for light theme */\n",
              "  --sklearn-color-text-on-default-background: var(--sg-text-color, var(--theme-code-foreground, var(--jp-content-font-color1, black)));\n",
              "  --sklearn-color-background: var(--sg-background-color, var(--theme-background, var(--jp-layout-color0, white)));\n",
              "  --sklearn-color-border-box: var(--sg-text-color, var(--theme-code-foreground, var(--jp-content-font-color1, black)));\n",
              "  --sklearn-color-icon: #696969;\n",
              "\n",
              "  @media (prefers-color-scheme: dark) {\n",
              "    /* Redefinition of color scheme for dark theme */\n",
              "    --sklearn-color-text-on-default-background: var(--sg-text-color, var(--theme-code-foreground, var(--jp-content-font-color1, white)));\n",
              "    --sklearn-color-background: var(--sg-background-color, var(--theme-background, var(--jp-layout-color0, #111)));\n",
              "    --sklearn-color-border-box: var(--sg-text-color, var(--theme-code-foreground, var(--jp-content-font-color1, white)));\n",
              "    --sklearn-color-icon: #878787;\n",
              "  }\n",
              "}\n",
              "\n",
              "#sk-container-id-2 {\n",
              "  color: var(--sklearn-color-text);\n",
              "}\n",
              "\n",
              "#sk-container-id-2 pre {\n",
              "  padding: 0;\n",
              "}\n",
              "\n",
              "#sk-container-id-2 input.sk-hidden--visually {\n",
              "  border: 0;\n",
              "  clip: rect(1px 1px 1px 1px);\n",
              "  clip: rect(1px, 1px, 1px, 1px);\n",
              "  height: 1px;\n",
              "  margin: -1px;\n",
              "  overflow: hidden;\n",
              "  padding: 0;\n",
              "  position: absolute;\n",
              "  width: 1px;\n",
              "}\n",
              "\n",
              "#sk-container-id-2 div.sk-dashed-wrapped {\n",
              "  border: 1px dashed var(--sklearn-color-line);\n",
              "  margin: 0 0.4em 0.5em 0.4em;\n",
              "  box-sizing: border-box;\n",
              "  padding-bottom: 0.4em;\n",
              "  background-color: var(--sklearn-color-background);\n",
              "}\n",
              "\n",
              "#sk-container-id-2 div.sk-container {\n",
              "  /* jupyter's `normalize.less` sets `[hidden] { display: none; }`\n",
              "     but bootstrap.min.css set `[hidden] { display: none !important; }`\n",
              "     so we also need the `!important` here to be able to override the\n",
              "     default hidden behavior on the sphinx rendered scikit-learn.org.\n",
              "     See: https://github.com/scikit-learn/scikit-learn/issues/21755 */\n",
              "  display: inline-block !important;\n",
              "  position: relative;\n",
              "}\n",
              "\n",
              "#sk-container-id-2 div.sk-text-repr-fallback {\n",
              "  display: none;\n",
              "}\n",
              "\n",
              "div.sk-parallel-item,\n",
              "div.sk-serial,\n",
              "div.sk-item {\n",
              "  /* draw centered vertical line to link estimators */\n",
              "  background-image: linear-gradient(var(--sklearn-color-text-on-default-background), var(--sklearn-color-text-on-default-background));\n",
              "  background-size: 2px 100%;\n",
              "  background-repeat: no-repeat;\n",
              "  background-position: center center;\n",
              "}\n",
              "\n",
              "/* Parallel-specific style estimator block */\n",
              "\n",
              "#sk-container-id-2 div.sk-parallel-item::after {\n",
              "  content: \"\";\n",
              "  width: 100%;\n",
              "  border-bottom: 2px solid var(--sklearn-color-text-on-default-background);\n",
              "  flex-grow: 1;\n",
              "}\n",
              "\n",
              "#sk-container-id-2 div.sk-parallel {\n",
              "  display: flex;\n",
              "  align-items: stretch;\n",
              "  justify-content: center;\n",
              "  background-color: var(--sklearn-color-background);\n",
              "  position: relative;\n",
              "}\n",
              "\n",
              "#sk-container-id-2 div.sk-parallel-item {\n",
              "  display: flex;\n",
              "  flex-direction: column;\n",
              "}\n",
              "\n",
              "#sk-container-id-2 div.sk-parallel-item:first-child::after {\n",
              "  align-self: flex-end;\n",
              "  width: 50%;\n",
              "}\n",
              "\n",
              "#sk-container-id-2 div.sk-parallel-item:last-child::after {\n",
              "  align-self: flex-start;\n",
              "  width: 50%;\n",
              "}\n",
              "\n",
              "#sk-container-id-2 div.sk-parallel-item:only-child::after {\n",
              "  width: 0;\n",
              "}\n",
              "\n",
              "/* Serial-specific style estimator block */\n",
              "\n",
              "#sk-container-id-2 div.sk-serial {\n",
              "  display: flex;\n",
              "  flex-direction: column;\n",
              "  align-items: center;\n",
              "  background-color: var(--sklearn-color-background);\n",
              "  padding-right: 1em;\n",
              "  padding-left: 1em;\n",
              "}\n",
              "\n",
              "\n",
              "/* Toggleable style: style used for estimator/Pipeline/ColumnTransformer box that is\n",
              "clickable and can be expanded/collapsed.\n",
              "- Pipeline and ColumnTransformer use this feature and define the default style\n",
              "- Estimators will overwrite some part of the style using the `sk-estimator` class\n",
              "*/\n",
              "\n",
              "/* Pipeline and ColumnTransformer style (default) */\n",
              "\n",
              "#sk-container-id-2 div.sk-toggleable {\n",
              "  /* Default theme specific background. It is overwritten whether we have a\n",
              "  specific estimator or a Pipeline/ColumnTransformer */\n",
              "  background-color: var(--sklearn-color-background);\n",
              "}\n",
              "\n",
              "/* Toggleable label */\n",
              "#sk-container-id-2 label.sk-toggleable__label {\n",
              "  cursor: pointer;\n",
              "  display: block;\n",
              "  width: 100%;\n",
              "  margin-bottom: 0;\n",
              "  padding: 0.5em;\n",
              "  box-sizing: border-box;\n",
              "  text-align: center;\n",
              "}\n",
              "\n",
              "#sk-container-id-2 label.sk-toggleable__label-arrow:before {\n",
              "  /* Arrow on the left of the label */\n",
              "  content: \"▸\";\n",
              "  float: left;\n",
              "  margin-right: 0.25em;\n",
              "  color: var(--sklearn-color-icon);\n",
              "}\n",
              "\n",
              "#sk-container-id-2 label.sk-toggleable__label-arrow:hover:before {\n",
              "  color: var(--sklearn-color-text);\n",
              "}\n",
              "\n",
              "/* Toggleable content - dropdown */\n",
              "\n",
              "#sk-container-id-2 div.sk-toggleable__content {\n",
              "  max-height: 0;\n",
              "  max-width: 0;\n",
              "  overflow: hidden;\n",
              "  text-align: left;\n",
              "  /* unfitted */\n",
              "  background-color: var(--sklearn-color-unfitted-level-0);\n",
              "}\n",
              "\n",
              "#sk-container-id-2 div.sk-toggleable__content.fitted {\n",
              "  /* fitted */\n",
              "  background-color: var(--sklearn-color-fitted-level-0);\n",
              "}\n",
              "\n",
              "#sk-container-id-2 div.sk-toggleable__content pre {\n",
              "  margin: 0.2em;\n",
              "  border-radius: 0.25em;\n",
              "  color: var(--sklearn-color-text);\n",
              "  /* unfitted */\n",
              "  background-color: var(--sklearn-color-unfitted-level-0);\n",
              "}\n",
              "\n",
              "#sk-container-id-2 div.sk-toggleable__content.fitted pre {\n",
              "  /* unfitted */\n",
              "  background-color: var(--sklearn-color-fitted-level-0);\n",
              "}\n",
              "\n",
              "#sk-container-id-2 input.sk-toggleable__control:checked~div.sk-toggleable__content {\n",
              "  /* Expand drop-down */\n",
              "  max-height: 200px;\n",
              "  max-width: 100%;\n",
              "  overflow: auto;\n",
              "}\n",
              "\n",
              "#sk-container-id-2 input.sk-toggleable__control:checked~label.sk-toggleable__label-arrow:before {\n",
              "  content: \"▾\";\n",
              "}\n",
              "\n",
              "/* Pipeline/ColumnTransformer-specific style */\n",
              "\n",
              "#sk-container-id-2 div.sk-label input.sk-toggleable__control:checked~label.sk-toggleable__label {\n",
              "  color: var(--sklearn-color-text);\n",
              "  background-color: var(--sklearn-color-unfitted-level-2);\n",
              "}\n",
              "\n",
              "#sk-container-id-2 div.sk-label.fitted input.sk-toggleable__control:checked~label.sk-toggleable__label {\n",
              "  background-color: var(--sklearn-color-fitted-level-2);\n",
              "}\n",
              "\n",
              "/* Estimator-specific style */\n",
              "\n",
              "/* Colorize estimator box */\n",
              "#sk-container-id-2 div.sk-estimator input.sk-toggleable__control:checked~label.sk-toggleable__label {\n",
              "  /* unfitted */\n",
              "  background-color: var(--sklearn-color-unfitted-level-2);\n",
              "}\n",
              "\n",
              "#sk-container-id-2 div.sk-estimator.fitted input.sk-toggleable__control:checked~label.sk-toggleable__label {\n",
              "  /* fitted */\n",
              "  background-color: var(--sklearn-color-fitted-level-2);\n",
              "}\n",
              "\n",
              "#sk-container-id-2 div.sk-label label.sk-toggleable__label,\n",
              "#sk-container-id-2 div.sk-label label {\n",
              "  /* The background is the default theme color */\n",
              "  color: var(--sklearn-color-text-on-default-background);\n",
              "}\n",
              "\n",
              "/* On hover, darken the color of the background */\n",
              "#sk-container-id-2 div.sk-label:hover label.sk-toggleable__label {\n",
              "  color: var(--sklearn-color-text);\n",
              "  background-color: var(--sklearn-color-unfitted-level-2);\n",
              "}\n",
              "\n",
              "/* Label box, darken color on hover, fitted */\n",
              "#sk-container-id-2 div.sk-label.fitted:hover label.sk-toggleable__label.fitted {\n",
              "  color: var(--sklearn-color-text);\n",
              "  background-color: var(--sklearn-color-fitted-level-2);\n",
              "}\n",
              "\n",
              "/* Estimator label */\n",
              "\n",
              "#sk-container-id-2 div.sk-label label {\n",
              "  font-family: monospace;\n",
              "  font-weight: bold;\n",
              "  display: inline-block;\n",
              "  line-height: 1.2em;\n",
              "}\n",
              "\n",
              "#sk-container-id-2 div.sk-label-container {\n",
              "  text-align: center;\n",
              "}\n",
              "\n",
              "/* Estimator-specific */\n",
              "#sk-container-id-2 div.sk-estimator {\n",
              "  font-family: monospace;\n",
              "  border: 1px dotted var(--sklearn-color-border-box);\n",
              "  border-radius: 0.25em;\n",
              "  box-sizing: border-box;\n",
              "  margin-bottom: 0.5em;\n",
              "  /* unfitted */\n",
              "  background-color: var(--sklearn-color-unfitted-level-0);\n",
              "}\n",
              "\n",
              "#sk-container-id-2 div.sk-estimator.fitted {\n",
              "  /* fitted */\n",
              "  background-color: var(--sklearn-color-fitted-level-0);\n",
              "}\n",
              "\n",
              "/* on hover */\n",
              "#sk-container-id-2 div.sk-estimator:hover {\n",
              "  /* unfitted */\n",
              "  background-color: var(--sklearn-color-unfitted-level-2);\n",
              "}\n",
              "\n",
              "#sk-container-id-2 div.sk-estimator.fitted:hover {\n",
              "  /* fitted */\n",
              "  background-color: var(--sklearn-color-fitted-level-2);\n",
              "}\n",
              "\n",
              "/* Specification for estimator info (e.g. \"i\" and \"?\") */\n",
              "\n",
              "/* Common style for \"i\" and \"?\" */\n",
              "\n",
              ".sk-estimator-doc-link,\n",
              "a:link.sk-estimator-doc-link,\n",
              "a:visited.sk-estimator-doc-link {\n",
              "  float: right;\n",
              "  font-size: smaller;\n",
              "  line-height: 1em;\n",
              "  font-family: monospace;\n",
              "  background-color: var(--sklearn-color-background);\n",
              "  border-radius: 1em;\n",
              "  height: 1em;\n",
              "  width: 1em;\n",
              "  text-decoration: none !important;\n",
              "  margin-left: 1ex;\n",
              "  /* unfitted */\n",
              "  border: var(--sklearn-color-unfitted-level-1) 1pt solid;\n",
              "  color: var(--sklearn-color-unfitted-level-1);\n",
              "}\n",
              "\n",
              ".sk-estimator-doc-link.fitted,\n",
              "a:link.sk-estimator-doc-link.fitted,\n",
              "a:visited.sk-estimator-doc-link.fitted {\n",
              "  /* fitted */\n",
              "  border: var(--sklearn-color-fitted-level-1) 1pt solid;\n",
              "  color: var(--sklearn-color-fitted-level-1);\n",
              "}\n",
              "\n",
              "/* On hover */\n",
              "div.sk-estimator:hover .sk-estimator-doc-link:hover,\n",
              ".sk-estimator-doc-link:hover,\n",
              "div.sk-label-container:hover .sk-estimator-doc-link:hover,\n",
              ".sk-estimator-doc-link:hover {\n",
              "  /* unfitted */\n",
              "  background-color: var(--sklearn-color-unfitted-level-3);\n",
              "  color: var(--sklearn-color-background);\n",
              "  text-decoration: none;\n",
              "}\n",
              "\n",
              "div.sk-estimator.fitted:hover .sk-estimator-doc-link.fitted:hover,\n",
              ".sk-estimator-doc-link.fitted:hover,\n",
              "div.sk-label-container:hover .sk-estimator-doc-link.fitted:hover,\n",
              ".sk-estimator-doc-link.fitted:hover {\n",
              "  /* fitted */\n",
              "  background-color: var(--sklearn-color-fitted-level-3);\n",
              "  color: var(--sklearn-color-background);\n",
              "  text-decoration: none;\n",
              "}\n",
              "\n",
              "/* Span, style for the box shown on hovering the info icon */\n",
              ".sk-estimator-doc-link span {\n",
              "  display: none;\n",
              "  z-index: 9999;\n",
              "  position: relative;\n",
              "  font-weight: normal;\n",
              "  right: .2ex;\n",
              "  padding: .5ex;\n",
              "  margin: .5ex;\n",
              "  width: min-content;\n",
              "  min-width: 20ex;\n",
              "  max-width: 50ex;\n",
              "  color: var(--sklearn-color-text);\n",
              "  box-shadow: 2pt 2pt 4pt #999;\n",
              "  /* unfitted */\n",
              "  background: var(--sklearn-color-unfitted-level-0);\n",
              "  border: .5pt solid var(--sklearn-color-unfitted-level-3);\n",
              "}\n",
              "\n",
              ".sk-estimator-doc-link.fitted span {\n",
              "  /* fitted */\n",
              "  background: var(--sklearn-color-fitted-level-0);\n",
              "  border: var(--sklearn-color-fitted-level-3);\n",
              "}\n",
              "\n",
              ".sk-estimator-doc-link:hover span {\n",
              "  display: block;\n",
              "}\n",
              "\n",
              "/* \"?\"-specific style due to the `<a>` HTML tag */\n",
              "\n",
              "#sk-container-id-2 a.estimator_doc_link {\n",
              "  float: right;\n",
              "  font-size: 1rem;\n",
              "  line-height: 1em;\n",
              "  font-family: monospace;\n",
              "  background-color: var(--sklearn-color-background);\n",
              "  border-radius: 1rem;\n",
              "  height: 1rem;\n",
              "  width: 1rem;\n",
              "  text-decoration: none;\n",
              "  /* unfitted */\n",
              "  color: var(--sklearn-color-unfitted-level-1);\n",
              "  border: var(--sklearn-color-unfitted-level-1) 1pt solid;\n",
              "}\n",
              "\n",
              "#sk-container-id-2 a.estimator_doc_link.fitted {\n",
              "  /* fitted */\n",
              "  border: var(--sklearn-color-fitted-level-1) 1pt solid;\n",
              "  color: var(--sklearn-color-fitted-level-1);\n",
              "}\n",
              "\n",
              "/* On hover */\n",
              "#sk-container-id-2 a.estimator_doc_link:hover {\n",
              "  /* unfitted */\n",
              "  background-color: var(--sklearn-color-unfitted-level-3);\n",
              "  color: var(--sklearn-color-background);\n",
              "  text-decoration: none;\n",
              "}\n",
              "\n",
              "#sk-container-id-2 a.estimator_doc_link.fitted:hover {\n",
              "  /* fitted */\n",
              "  background-color: var(--sklearn-color-fitted-level-3);\n",
              "}\n",
              "</style><div id=\"sk-container-id-2\" class=\"sk-top-container\"><div class=\"sk-text-repr-fallback\"><pre>RandomForestClassifier(random_state=42)</pre><b>In a Jupyter environment, please rerun this cell to show the HTML representation or trust the notebook. <br />On GitHub, the HTML representation is unable to render, please try loading this page with nbviewer.org.</b></div><div class=\"sk-container\" hidden><div class=\"sk-item\"><div class=\"sk-estimator fitted sk-toggleable\"><input class=\"sk-toggleable__control sk-hidden--visually\" id=\"sk-estimator-id-2\" type=\"checkbox\" checked><label for=\"sk-estimator-id-2\" class=\"sk-toggleable__label fitted sk-toggleable__label-arrow fitted\">&nbsp;&nbsp;RandomForestClassifier<a class=\"sk-estimator-doc-link fitted\" rel=\"noreferrer\" target=\"_blank\" href=\"https://scikit-learn.org/1.5/modules/generated/sklearn.ensemble.RandomForestClassifier.html\">?<span>Documentation for RandomForestClassifier</span></a><span class=\"sk-estimator-doc-link fitted\">i<span>Fitted</span></span></label><div class=\"sk-toggleable__content fitted\"><pre>RandomForestClassifier(random_state=42)</pre></div> </div></div></div></div>"
            ]
          },
          "metadata": {},
          "execution_count": 8
        }
      ]
    },
    {
      "cell_type": "markdown",
      "source": [
        "**Step 8: Evaluate Updated Model Performance**\n",
        "After training, we test the updated model on the same test set and evaluate its performance.\n",
        "Since this model was trained on balanced data, it is expected to have improved performance on the minority class (1)."
      ],
      "metadata": {
        "id": "-U6Kd7qFxJAU"
      }
    },
    {
      "cell_type": "code",
      "source": [
        "# Evaluate updated model performance\n",
        "y_pred_updated = model_updated.predict(X_test)\n",
        "updated_report = classification_report(y_test, y_pred_updated, output_dict=True)\n",
        "accuracy_updated = accuracy_score(y_test, y_pred_updated)\n"
      ],
      "metadata": {
        "id": "XBAhlp6XxMcu"
      },
      "execution_count": null,
      "outputs": []
    },
    {
      "cell_type": "markdown",
      "source": [
        "**Step 9: Visualize the Results**\n",
        "We visualize results to compare the initial model (trained on imbalanced data) with the updated model (trained on balanced data).\n",
        "\n",
        "**(a) Model Performance Metrics (Accuracy, Precision, Recall, F1 Score)**\n",
        "We create a DataFrame (results_df) that holds accuracy, precision, recall, and F1 scores for both models. This will help us visualize model performance improvements.\n",
        "\n"
      ],
      "metadata": {
        "id": "hlr0ZYSexRUM"
      }
    },
    {
      "cell_type": "code",
      "source": [
        "# Model performance comparison\n",
        "labels = ['Initial Model', 'Updated Model']\n",
        "accuracies = [accuracy_initial, accuracy_updated]\n",
        "precision_A = [initial_report['1']['precision'], updated_report['1']['precision']]\n",
        "recall_A = [initial_report['1']['recall'], updated_report['1']['recall']]\n",
        "f1_A = [initial_report['1']['f1-score'], updated_report['1']['f1-score']]\n",
        "\n",
        "# Create a DataFrame for better visualization\n",
        "results_df = pd.DataFrame({\n",
        "    'Model': labels,\n",
        "    'Accuracy': accuracies,\n",
        "    'Precision': precision_A,\n",
        "    'Recall': recall_A,\n",
        "    'F1 Score': f1_A\n",
        "})\n"
      ],
      "metadata": {
        "id": "emKrc5jzxb0o"
      },
      "execution_count": null,
      "outputs": []
    },
    {
      "cell_type": "markdown",
      "source": [
        "**(b) Bar Plot of Performance Metrics**\n",
        "This bar plot compares the accuracy, precision, recall, and F1 scores of the initial and updated models. We expect the updated model to show improved precision, recall, and F1 score, particularly for the minority class."
      ],
      "metadata": {
        "id": "azvHSTRUxe4-"
      }
    },
    {
      "cell_type": "code",
      "source": [
        "# Plotting performance metrics\n",
        "fig, ax = plt.subplots(figsize=(8, 6))\n",
        "\n",
        "results_df.set_index('Model')[['Accuracy', 'Precision', 'Recall', 'F1 Score']].plot(kind='bar', ax=ax)\n",
        "ax.set_ylabel('Scores')\n",
        "ax.set_title('Model Performance Before and After Balancing')\n",
        "ax.legend(title='Metrics')\n",
        "ax.set_ylim(0, 1)\n",
        "\n",
        "plt.show()\n"
      ],
      "metadata": {
        "colab": {
          "base_uri": "https://localhost:8080/",
          "height": 651
        },
        "id": "-JYRhxThxi-M",
        "outputId": "ce187d2c-ac5f-4368-c427-50bb101447c7"
      },
      "execution_count": null,
      "outputs": [
        {
          "output_type": "display_data",
          "data": {
            "text/plain": [
              "<Figure size 800x600 with 1 Axes>"
            ],
            "image/png": "[encoded data removed]"
          },
          "metadata": {}
        }
      ]
    },
    {
      "cell_type": "markdown",
      "source": [
        "**(c) Confusion Matrix Visualization**\n",
        "Heatmaps of confusion matrices allow us to see the distribution of predictions across classes for both models.\n",
        "The initial model will likely have more false negatives for class 1 due to the class imbalance, while the updated model should have a more balanced confusion matrix.\n"
      ],
      "metadata": {
        "id": "9_KFZstJxscf"
      }
    },
    {
      "cell_type": "code",
      "source": [
        "cm_initial = confusion_matrix(y_test, y_pred_initial)\n",
        "plt.figure(figsize=(6, 6))\n",
        "sns.heatmap(cm_initial, annot=True, fmt='d', cmap='Blues', cbar=False,\n",
        "            xticklabels=['Predicted 0', 'Predicted 1'], yticklabels=['True 0', 'True 1'])\n",
        "plt.title('Initial Model Confusion Matrix (Imbalanced Data)')\n",
        "plt.xlabel('Predicted')\n",
        "plt.ylabel('Actual')\n",
        "plt.show()\n",
        "\n",
        "# Updated Model Confusion Matrix\n",
        "cm_updated = confusion_matrix(y_test, y_pred_updated)\n",
        "plt.figure(figsize=(6, 6))\n",
        "sns.heatmap(cm_updated, annot=True, fmt='d', cmap='Blues', cbar=False,\n",
        "            xticklabels=['Predicted 0', 'Predicted 1'], yticklabels=['True 0', 'True 1'])\n",
        "plt.title('Updated Model Confusion Matrix (Balanced Data with SMOTE)')\n",
        "plt.xlabel('Predicted')\n",
        "plt.ylabel('Actual')\n",
        "plt.show()"
      ],
      "metadata": {
        "colab": {
          "base_uri": "https://localhost:8080/",
          "height": 1000
        },
        "id": "ChuOUdhbxsLO",
        "outputId": "06ed00c4-b73e-4c6e-8028-fa2522d2b207"
      },
      "execution_count": null,
      "outputs": [
        {
          "output_type": "display_data",
          "data": {
            "text/plain": [
              "<Figure size 600x600 with 1 Axes>"
            ],
            "image/png": "[encoded data removed]"
          },
          "metadata": {}
        },
        {
          "output_type": "display_data",
          "data": {
            "text/plain": [
              "<Figure size 600x600 with 1 Axes>"
            ],
            "image/png": "[encoded data removed]"
          },
          "metadata": {}
        }
      ]
    },
    {
      "cell_type": "markdown",
      "source": [
        "### **B. Consensus based labeling**"
      ],
      "metadata": {
        "id": "72GuQ_gq0CnW"
      }
    },
    {
      "cell_type": "markdown",
      "source": [
        "**Step 1: Import Libraries and Create Synthetic Data**\n",
        "\n",
        "Here we import the necessary libraries:\n",
        "\n",
        "pandas for data manipulation.\n",
        "numpy for generating random numbers.\n",
        "mode from scipy.stats to calculate the consensus (or majority) label."
      ],
      "metadata": {
        "id": "AM1sUJR30dCW"
      }
    },
    {
      "cell_type": "code",
      "source": [
        "import pandas as pd\n",
        "import numpy as np\n",
        "from scipy.stats import mode\n"
      ],
      "metadata": {
        "id": "Qdk1NWTF1KWa"
      },
      "execution_count": null,
      "outputs": []
    },
    {
      "cell_type": "markdown",
      "source": [
        "**Step 2: Create a Function to Generate Synthetic Data**\n",
        "\n",
        "Setting a random seed with np.random.seed(42) ensures that each time we run this cell, we get the same random numbers, which is useful for reproducibility.\n",
        "Generating Data:\n",
        "feature column: Random values between 0 and 1.\n",
        "label_annotator_1, label_annotator_2, and label_annotator_3: These columns represent labels from three different annotators who may assign either 0 or 1 as a label. The labels are chosen randomly for each annotator and sample.\n",
        "Returning a DataFrame: This function returns a DataFrame containing the synthetic dataset."
      ],
      "metadata": {
        "id": "qf2ckU7q1Nrl"
      }
    },
    {
      "cell_type": "code",
      "source": [
        "def create_synthetic_data(num_samples=10):\n",
        "    # Create a dataset with features and multiple labels from different annotators\n",
        "    np.random.seed(42)  # Ensures reproducibility\n",
        "    data = {\n",
        "        'feature': np.random.rand(num_samples),\n",
        "        'label_annotator_1': np.random.choice([0, 1], size=num_samples),\n",
        "        'label_annotator_2': np.random.choice([0, 1], size=num_samples),\n",
        "        'label_annotator_3': np.random.choice([0, 1], size=num_samples)\n",
        "    }\n",
        "    return pd.DataFrame(data)\n"
      ],
      "metadata": {
        "colab": {
          "base_uri": "https://localhost:8080/"
        },
        "id": "mGzFlCmL1TIo",
        "outputId": "c4a8b8a7-1939-430c-8abd-43fea05b7afe"
      },
      "execution_count": null,
      "outputs": [
        {
          "output_type": "stream",
          "name": "stdout",
          "text": [
            "Synthetic Data with Individual Annotations:\n",
            "     feature  label_annotator_1  label_annotator_2  label_annotator_3\n",
            "0   0.374540                  0                  0                  0\n",
            "1   0.950714                  0                  0                  1\n",
            "2   0.731994                  1                  0                  0\n",
            "3   0.598658                  1                  0                  1\n",
            "4   0.156019                  1                  0                  0\n",
            "5   0.155995                  1                  1                  0\n",
            "6   0.058084                  1                  1                  1\n",
            "7   0.866176                  0                  0                  0\n",
            "8   0.601115                  1                  1                  1\n",
            "9   0.708073                  1                  1                  1\n",
            "10  0.020584                  0                  1                  1\n",
            "11  0.969910                  1                  1                  1\n",
            "12  0.832443                  0                  0                  1\n",
            "13  0.212339                  1                  1                  1\n",
            "14  0.181825                  0                  0                  1\n",
            "15  0.183405                  1                  1                  1\n",
            "16  0.304242                  1                  1                  1\n",
            "17  0.524756                  0                  1                  1\n",
            "18  0.431945                  0                  0                  1\n",
            "19  0.291229                  0                  1                  0\n"
          ]
        }
      ]
    },
    {
      "cell_type": "markdown",
      "source": [
        "This displays the dataset with individual labels from each annotator."
      ],
      "metadata": {
        "id": "BsK-gQYv1c-t"
      }
    },
    {
      "cell_type": "code",
      "source": [
        "synthetic_data = create_synthetic_data(num_samples=20)\n",
        "print(\"Synthetic Data with Individual Annotations:\")\n",
        "print(synthetic_data)"
      ],
      "metadata": {
        "colab": {
          "base_uri": "https://localhost:8080/"
        },
        "id": "NbsIlxzR1eMC",
        "outputId": "af06ca92-8089-4ebb-8be0-c300969d0f03"
      },
      "execution_count": null,
      "outputs": [
        {
          "output_type": "stream",
          "name": "stdout",
          "text": [
            "Synthetic Data with Individual Annotations:\n",
            "     feature  label_annotator_1  label_annotator_2  label_annotator_3\n",
            "0   0.374540                  0                  0                  0\n",
            "1   0.950714                  0                  0                  1\n",
            "2   0.731994                  1                  0                  0\n",
            "3   0.598658                  1                  0                  1\n",
            "4   0.156019                  1                  0                  0\n",
            "5   0.155995                  1                  1                  0\n",
            "6   0.058084                  1                  1                  1\n",
            "7   0.866176                  0                  0                  0\n",
            "8   0.601115                  1                  1                  1\n",
            "9   0.708073                  1                  1                  1\n",
            "10  0.020584                  0                  1                  1\n",
            "11  0.969910                  1                  1                  1\n",
            "12  0.832443                  0                  0                  1\n",
            "13  0.212339                  1                  1                  1\n",
            "14  0.181825                  0                  0                  1\n",
            "15  0.183405                  1                  1                  1\n",
            "16  0.304242                  1                  1                  1\n",
            "17  0.524756                  0                  1                  1\n",
            "18  0.431945                  0                  0                  1\n",
            "19  0.291229                  0                  1                  0\n"
          ]
        }
      ]
    },
    {
      "cell_type": "markdown",
      "source": [
        "**Step 3: Implement Consensus-Based Labeling**\n",
        "\n",
        "Selecting Columns for Voting:\n",
        "The function takes a DataFrame with multiple annotator labels.\n",
        "data[['label_annotator_1', 'label_annotator_2', 'label_annotator_3']] selects the label columns for each annotator.\n",
        "Applying Majority Voting:\n",
        "mode(axis=1)[0] calculates the most common label for each row (sample) across the annotators.\n",
        "axis=1 tells mode to calculate along rows, so it finds the most frequent label per sample.\n",
        "The [0] extracts the mode from the result, assigning it as the final label.\n",
        "Creating final_label:\n",
        "A new column final_label is added to store the consensus-based label for each sample."
      ],
      "metadata": {
        "id": "7neb8-4v1iqQ"
      }
    },
    {
      "cell_type": "code",
      "source": [
        "def consensus_labeling(data):\n",
        "    # Use majority voting to determine the final label\n",
        "    data['final_label'] = data[['label_annotator_1', 'label_annotator_2', 'label_annotator_3']].mode(axis=1)[0]\n",
        "    return data\n"
      ],
      "metadata": {
        "id": "hRGdQdWQ1of9"
      },
      "execution_count": null,
      "outputs": []
    },
    {
      "cell_type": "markdown",
      "source": [
        "This shows the data with the additional final_label column, representing the consensus-based label."
      ],
      "metadata": {
        "id": "RYpGL7G31sV_"
      }
    },
    {
      "cell_type": "code",
      "source": [
        "labeled_data = consensus_labeling(synthetic_data)\n",
        "print(\"\\nData with Consensus-Based Final Labels:\")\n",
        "print(labeled_data[['feature', 'label_annotator_1', 'label_annotator_2', 'label_annotator_3', 'final_label']])\n"
      ],
      "metadata": {
        "colab": {
          "base_uri": "https://localhost:8080/"
        },
        "id": "jQtTYZDM1sxP",
        "outputId": "96868bce-5ec5-4ea9-a631-aef8137e4297"
      },
      "execution_count": null,
      "outputs": [
        {
          "output_type": "stream",
          "name": "stdout",
          "text": [
            "\n",
            "Data with Consensus-Based Final Labels:\n",
            "     feature  label_annotator_1  label_annotator_2  label_annotator_3  \\\n",
            "0   0.374540                  0                  0                  0   \n",
            "1   0.950714                  0                  0                  1   \n",
            "2   0.731994                  1                  0                  0   \n",
            "3   0.598658                  1                  0                  1   \n",
            "4   0.156019                  1                  0                  0   \n",
            "5   0.155995                  1                  1                  0   \n",
            "6   0.058084                  1                  1                  1   \n",
            "7   0.866176                  0                  0                  0   \n",
            "8   0.601115                  1                  1                  1   \n",
            "9   0.708073                  1                  1                  1   \n",
            "10  0.020584                  0                  1                  1   \n",
            "11  0.969910                  1                  1                  1   \n",
            "12  0.832443                  0                  0                  1   \n",
            "13  0.212339                  1                  1                  1   \n",
            "14  0.181825                  0                  0                  1   \n",
            "15  0.183405                  1                  1                  1   \n",
            "16  0.304242                  1                  1                  1   \n",
            "17  0.524756                  0                  1                  1   \n",
            "18  0.431945                  0                  0                  1   \n",
            "19  0.291229                  0                  1                  0   \n",
            "\n",
            "    final_label  \n",
            "0             0  \n",
            "1             0  \n",
            "2             0  \n",
            "3             1  \n",
            "4             0  \n",
            "5             1  \n",
            "6             1  \n",
            "7             0  \n",
            "8             1  \n",
            "9             1  \n",
            "10            1  \n",
            "11            1  \n",
            "12            0  \n",
            "13            1  \n",
            "14            0  \n",
            "15            1  \n",
            "16            1  \n",
            "17            1  \n",
            "18            0  \n",
            "19            0  \n"
          ]
        }
      ]
    },
    {
      "cell_type": "markdown",
      "source": [
        "**Step 4: Plot Distribution of Each Annotator’s Labels**\n",
        "This first chart will show how each annotator labeled the samples.\n",
        "\n",
        "This set of bar charts will show the distribution of labels from each annotator (Annotator 1, Annotator 2, Annotator 3). This provides an initial look at the variance in labeling among the annotators."
      ],
      "metadata": {
        "id": "Uyup_3xY2FTd"
      }
    },
    {
      "cell_type": "code",
      "source": [
        "import matplotlib.pyplot as plt\n",
        "import seaborn as sns\n",
        "\n",
        "# Plot label distributions for each annotator\n",
        "fig, ax = plt.subplots(1, 3, figsize=(15, 5))\n",
        "\n",
        "# Annotator 1\n",
        "sns.countplot(x='label_annotator_1', data=labeled_data, ax=ax[0], palette=\"Set2\")\n",
        "ax[0].set_title('Label Distribution - Annotator 1')\n",
        "ax[0].set_xlabel('Label')\n",
        "ax[0].set_ylabel('Count')\n",
        "\n",
        "# Annotator 2\n",
        "sns.countplot(x='label_annotator_2', data=labeled_data, ax=ax[1], palette=\"Set2\")\n",
        "ax[1].set_title('Label Distribution - Annotator 2')\n",
        "ax[1].set_xlabel('Label')\n",
        "ax[1].set_ylabel('Count')\n",
        "\n",
        "# Annotator 3\n",
        "sns.countplot(x='label_annotator_3', data=labeled_data, ax=ax[2], palette=\"Set2\")\n",
        "ax[2].set_title('Label Distribution - Annotator 3')\n",
        "ax[2].set_xlabel('Label')\n",
        "ax[2].set_ylabel('Count')\n",
        "\n",
        "plt.tight_layout()\n",
        "plt.show()\n"
      ],
      "metadata": {
        "colab": {
          "base_uri": "https://localhost:8080/",
          "height": 531
        },
        "id": "a6wyOfxa2PR3",
        "outputId": "5f0951d4-6bd5-4c49-e29f-e61e2eb4c560"
      },
      "execution_count": null,
      "outputs": [
        {
          "output_type": "stream",
          "name": "stderr",
          "text": [
            "<ipython-input-32-d1c7faadaa10>:8: FutureWarning: \n",
            "\n",
            "Passing `palette` without assigning `hue` is deprecated and will be removed in v0.14.0. Assign the `x` variable to `hue` and set `legend=False` for the same effect.\n",
            "\n",
            "  sns.countplot(x='label_annotator_1', data=labeled_data, ax=ax[0], palette=\"Set2\")\n",
            "<ipython-input-32-d1c7faadaa10>:14: FutureWarning: \n",
            "\n",
            "Passing `palette` without assigning `hue` is deprecated and will be removed in v0.14.0. Assign the `x` variable to `hue` and set `legend=False` for the same effect.\n",
            "\n",
            "  sns.countplot(x='label_annotator_2', data=labeled_data, ax=ax[1], palette=\"Set2\")\n",
            "<ipython-input-32-d1c7faadaa10>:20: FutureWarning: \n",
            "\n",
            "Passing `palette` without assigning `hue` is deprecated and will be removed in v0.14.0. Assign the `x` variable to `hue` and set `legend=False` for the same effect.\n",
            "\n",
            "  sns.countplot(x='label_annotator_3', data=labeled_data, ax=ax[2], palette=\"Set2\")\n"
          ]
        },
        {
          "output_type": "display_data",
          "data": {
            "text/plain": [
              "<Figure size 1500x500 with 3 Axes>"
            ],
            "image/png": "[encoded data removed]"
          },
          "metadata": {}
        }
      ]
    },
    {
      "cell_type": "code",
      "source": [
        "# Plot the distribution of final (consensus) labels\n",
        "plt.figure(figsize=(6, 5))\n",
        "sns.countplot(x='final_label', data=labeled_data, palette=\"Set1\")\n",
        "plt.title('Distribution of Consensus-Based Final Labels')\n",
        "plt.xlabel('Consensus Final Label')\n",
        "plt.ylabel('Count')\n",
        "plt.show()\n"
      ],
      "metadata": {
        "colab": {
          "base_uri": "https://localhost:8080/",
          "height": 596
        },
        "id": "Sv8vwY052U5s",
        "outputId": "23cece75-19cb-4552-f520-4a479bb363fe"
      },
      "execution_count": null,
      "outputs": [
        {
          "output_type": "stream",
          "name": "stderr",
          "text": [
            "<ipython-input-33-5bd25f9a1ae6>:3: FutureWarning: \n",
            "\n",
            "Passing `palette` without assigning `hue` is deprecated and will be removed in v0.14.0. Assign the `x` variable to `hue` and set `legend=False` for the same effect.\n",
            "\n",
            "  sns.countplot(x='final_label', data=labeled_data, palette=\"Set1\")\n"
          ]
        },
        {
          "output_type": "display_data",
          "data": {
            "text/plain": [
              "<Figure size 600x500 with 1 Axes>"
            ],
            "image/png": "[encoded data removed]"
          },
          "metadata": {}
        }
      ]
    },
    {
      "cell_type": "markdown",
      "source": [
        "### **C. Fairness constraints in model training**\n",
        "This setup is an example of implementing Fairness Constraints in Model Training, showing how to train a model while controlling for fairness across demographic groups. The code demonstrates both the process of applying a fairness penalty and monitoring its impact on training."
      ],
      "metadata": {
        "id": "r55n89lI8XHQ"
      }
    },
    {
      "cell_type": "markdown",
      "source": [
        "**Step 1: Importing Required Libraries**\n",
        "\n",
        "Purpose: Importing Matplotlib to plot the training results (loss and fairness penalty). Matplotlib is used to create graphs, which helps visualize how the model's performance and fairness change during training."
      ],
      "metadata": {
        "id": "p2fDuwvp8juv"
      }
    },
    {
      "cell_type": "code",
      "source": [
        "# Import necessary libraries\n",
        "import torch\n",
        "import torch.nn as nn\n",
        "import torch.optim as optim\n",
        "from sklearn.datasets import make_classification\n",
        "from sklearn.model_selection import train_test_split\n",
        "from sklearn.preprocessing import StandardScaler\n",
        "import numpy as np\n",
        "import matplotlib.pyplot as plt"
      ],
      "metadata": {
        "id": "6V4mmFXA8pN0"
      },
      "execution_count": null,
      "outputs": []
    },
    {
      "cell_type": "markdown",
      "source": [
        " **Step 2: Create Synthetic Data with Demographic Groups**\n",
        "Here, we generate synthetic data with make_classification, creating 1000 samples with 20 features. The target variable (y) is balanced, and we create a random demographic group assignment (groups) with values 0 or 1. These groups represent demographic categories (e.g., gender), allowing us to analyze and apply fairness constraints."
      ],
      "metadata": {
        "id": "QOXpkU8S8o0M"
      }
    },
    {
      "cell_type": "code",
      "source": [
        "X, y = make_classification(n_samples=1000, n_features=20, weights=[0.5, 0.5], random_state=42)\n",
        "groups = np.random.randint(0, 2, size=y.shape)  # Random demographic group assignment\n"
      ],
      "metadata": {
        "id": "Fl3BnrH-8xby"
      },
      "execution_count": null,
      "outputs": []
    },
    {
      "cell_type": "markdown",
      "source": [
        "**Step 3: Train-Test Split and Data Normalization**\n",
        "\n",
        "We split the dataset into training and test sets. Standard scaling normalizes the feature data, improving the model's performance by ensuring that features contribute equally during training."
      ],
      "metadata": {
        "id": "SF0TudKe8zDg"
      }
    },
    {
      "cell_type": "code",
      "source": [
        "X_train, X_test, y_train, y_test, groups_train, groups_test = train_test_split(X, y, groups, test_size=0.2, random_state=42)\n",
        "scaler = StandardScaler()\n",
        "X_train = scaler.fit_transform(X_train)\n",
        "X_test = scaler.transform(X_test)\n"
      ],
      "metadata": {
        "id": "vQAP1MLQ86pi"
      },
      "execution_count": null,
      "outputs": []
    },
    {
      "cell_type": "markdown",
      "source": [
        "**Step 4: TConvert Data to PyTorch Tensors**\n",
        "To use PyTorch for training, we convert the training features (X_train), labels (y_train), and demographic groups (groups_train) into PyTorch tensors, which are required for model training."
      ],
      "metadata": {
        "id": "OtRmK-gB-wa2"
      }
    },
    {
      "cell_type": "code",
      "source": [
        "X_train_tensor = torch.tensor(X_train, dtype=torch.float32)\n",
        "y_train_tensor = torch.tensor(y_train, dtype=torch.float32)\n",
        "groups_train_tensor = torch.tensor(groups_train, dtype=torch.float32)\n"
      ],
      "metadata": {
        "id": "YtMjb3jjTQ0b"
      },
      "execution_count": null,
      "outputs": []
    },
    {
      "cell_type": "markdown",
      "source": [
        "**Step 5: Define the FairNet Model**\n",
        "\n",
        "FairNet is a simple neural network with one hidden layer. We use ReLU as the activation function for the hidden layer and sigmoid for the output layer to perform binary classification.\n",
        "\n"
      ],
      "metadata": {
        "id": "labrRxmVTSXX"
      }
    },
    {
      "cell_type": "code",
      "source": [
        "class FairNet(nn.Module):\n",
        "    def __init__(self):\n",
        "        super(FairNet, self).__init__()\n",
        "        self.fc1 = nn.Linear(20, 10)  # Hidden layer (20 input features -> 10 units)\n",
        "        self.fc2 = nn.Linear(10, 1)   # Output layer (10 units -> 1 output)\n",
        "\n",
        "    def forward(self, x):\n",
        "        x = torch.relu(self.fc1(x))  # Apply ReLU to hidden layer\n",
        "        x = torch.sigmoid(self.fc2(x))  # Apply sigmoid for binary classification\n",
        "        return x\n"
      ],
      "metadata": {
        "id": "SwXLtTUUTe1c"
      },
      "execution_count": null,
      "outputs": []
    },
    {
      "cell_type": "markdown",
      "source": [
        "**Step 6: Define the Fairness Penalty Function (Demographic Parity)**\n",
        "\n",
        "This function calculates a fairness penalty based on demographic parity. It measures the difference in positive prediction rates between groups (0 and 1). We take the absolute difference between the mean predictions of each group. The penalty encourages the model to make similar predictions for both groups, aiming to reduce disparity."
      ],
      "metadata": {
        "id": "i0zcgRz0VQND"
      }
    },
    {
      "cell_type": "code",
      "source": [
        "def fairness_penalty(preds, labels, groups):\n",
        "    group_0_idx = (groups == 0)\n",
        "    group_1_idx = (groups == 1)\n",
        "\n",
        "    group_0_mean = preds[group_0_idx].mean()\n",
        "    group_1_mean = preds[group_1_idx].mean()\n",
        "\n",
        "    penalty = torch.abs(group_0_mean - group_1_mean)\n",
        "    return penalty\n"
      ],
      "metadata": {
        "id": "ZBYxnJnyVYiE"
      },
      "execution_count": null,
      "outputs": []
    },
    {
      "cell_type": "markdown",
      "source": [
        "**Step 7: Initialize Model, Criterion, Optimizer, and Fairness Weight**\n",
        "\n",
        "We initialize the FairNet model, set binary cross-entropy loss as our criterion for accuracy, and use the Adam optimizer for training. lambda_fairness is the weight that controls the impact of the fairness penalty on the overall loss."
      ],
      "metadata": {
        "id": "bWLvFe-zVaSe"
      }
    },
    {
      "cell_type": "code",
      "source": [
        "model = FairNet()\n",
        "criterion = nn.BCELoss()  # Binary Cross-Entropy Loss for binary classification\n",
        "optimizer = optim.Adam(model.parameters(), lr=0.01)\n",
        "lambda_fairness = 0.1  # Fairness weight (penalty adjustment)\n"
      ],
      "metadata": {
        "id": "X61gkBz8VaoF"
      },
      "execution_count": null,
      "outputs": []
    },
    {
      "cell_type": "markdown",
      "source": [
        "**Step 8: Train the Model with Fairness Constraints**\n",
        "\n",
        "In this loop, we train the model for 50 epochs. We calculate the main_loss to measure the model’s prediction accuracy. We then compute the fairness penalty using the fairness_penalty function and combine it with main_loss using lambda_fairness as a scaling factor. This combined loss (loss) balances the model’s accuracy with fairness constraints. We track the main loss and fairness penalty values for each epoch for later visualization."
      ],
      "metadata": {
        "id": "Z0mrjXnUVif4"
      }
    },
    {
      "cell_type": "code",
      "source": [
        "for epoch in range(50):  # Training loop for 50 epochs\n",
        "    model.train()\n",
        "    optimizer.zero_grad()  # Reset gradients\n",
        "\n",
        "    outputs = model(X_train_tensor).squeeze()  # Predictions\n",
        "    main_loss = criterion(outputs, y_train_tensor)  # Main loss for accuracy\n",
        "\n",
        "    penalty = fairness_penalty(outputs, y_train_tensor, groups_train_tensor)\n",
        "    loss = main_loss + lambda_fairness * penalty  # Combined loss\n",
        "\n",
        "    main_loss_values.append(main_loss.item())\n",
        "    fairness_penalty_values.append(penalty.item())\n",
        "\n",
        "    loss.backward()\n",
        "    optimizer.step()\n",
        "\n",
        "    if (epoch+1) % 10 == 0:\n",
        "        print(f\"Epoch [{epoch+1}/50], Loss: {loss.item():.4f}, Fairness Penalty: {penalty.item():.4f}\")\n"
      ],
      "metadata": {
        "colab": {
          "base_uri": "https://localhost:8080/"
        },
        "id": "JTbCqtAdVi2Y",
        "outputId": "eada57f5-da56-44ce-c06a-e59788d14c94"
      },
      "execution_count": null,
      "outputs": [
        {
          "output_type": "stream",
          "name": "stdout",
          "text": [
            "Epoch [10/50], Loss: 0.5868, Fairness Penalty: 0.0000\n",
            "Epoch [20/50], Loss: 0.4572, Fairness Penalty: 0.0001\n",
            "Epoch [30/50], Loss: 0.3451, Fairness Penalty: 0.0000\n",
            "Epoch [40/50], Loss: 0.2929, Fairness Penalty: 0.0002\n",
            "Epoch [50/50], Loss: 0.2696, Fairness Penalty: 0.0004\n"
          ]
        }
      ]
    },
    {
      "cell_type": "markdown",
      "source": [
        "**Step 9: Plot the Main Loss and Fairness Penalty**\n",
        "\n",
        "We plot two graphs:\n",
        "\n",
        "Main Loss (proxy for accuracy) - Shows how the model’s accuracy changes over epochs.\n",
        "Fairness Penalty - Indicates the model’s progress in reducing prediction disparities across groups.\n",
        "These graphs help visualize the trade-off between accuracy and fairness as the training progresses. By adjusting lambda_fairness, we can control this balance, emphasizing fairness to the desired degree.\n",
        "\n"
      ],
      "metadata": {
        "id": "Wbwel5B7VsfT"
      }
    },
    {
      "cell_type": "code",
      "source": [
        "epochs = list(range(1, 51))\n",
        "plt.figure(figsize=(12, 6))\n",
        "\n",
        "plt.subplot(1, 2, 1)\n",
        "plt.plot(epochs, main_loss_values, label=\"Main Loss\")\n",
        "plt.xlabel(\"Epoch\")\n",
        "plt.ylabel(\"Loss\")\n",
        "plt.title(\"Model Loss (Accuracy Proxy)\")\n",
        "plt.legend()\n",
        "\n",
        "plt.subplot(1, 2, 2)\n",
        "plt.plot(epochs, fairness_penalty_values, label=\"Fairness Penalty\", color='orange')\n",
        "plt.xlabel(\"Epoch\")\n",
        "plt.ylabel(\"Fairness Penalty\")\n",
        "plt.title(\"Fairness Penalty Over Epochs\")\n",
        "plt.legend()\n",
        "\n",
        "plt.tight_layout()\n",
        "plt.show()\n"
      ],
      "metadata": {
        "colab": {
          "base_uri": "https://localhost:8080/",
          "height": 347
        },
        "id": "VootqK7lVsww",
        "outputId": "58763094-621c-4ba6-edda-f5cf53723935"
      },
      "execution_count": null,
      "outputs": [
        {
          "output_type": "display_data",
          "data": {
            "text/plain": [
              "<Figure size 1200x600 with 2 Axes>"
            ],
            "image/png": "[encoded data removed]"
          },
          "metadata": {}
        }
      ]
    },
    {
      "cell_type": "markdown",
      "source": [
        "### **D.Adversarial Debiasing**"
      ],
      "metadata": {
        "id": "bzivOIPJWvKg"
      }
    },
    {
      "cell_type": "markdown",
      "source": [
        "**Step 1: Import Librarie**"
      ],
      "metadata": {
        "id": "SLrYfijAYUHG"
      }
    },
    {
      "cell_type": "code",
      "source": [
        "import numpy as np\n",
        "import pandas as pd\n",
        "import torch\n",
        "import torch.nn as nn\n",
        "import torch.optim as optim\n",
        "from sklearn.model_selection import train_test_split\n",
        "from sklearn.metrics import accuracy_score, classification_report\n",
        "import matplotlib.pyplot as plt\n",
        "import seaborn as sns\n"
      ],
      "metadata": {
        "id": "ehLEqOeVYgLq"
      },
      "execution_count": null,
      "outputs": []
    },
    {
      "cell_type": "markdown",
      "source": [
        "**Step 2: Create Synthetic Data with Multiple Sensitive Attributes**\n",
        "\n",
        "Here, synthetic data is generated with 2000 samples and three types of variables:\n",
        "\n",
        "Two features (feature_1 and feature_2) represent input data.\n",
        "Two sensitive attributes (age_group and gender), which we want to ensure do not influence predictions unfairly.\n",
        "Target label (label) representing the binary class the main model will try to predict.\n",
        "This setup provides the base data to evaluate and mitigate bias in predictions based on age_group and gender."
      ],
      "metadata": {
        "id": "bCAZdDLQW3sK"
      }
    },
    {
      "cell_type": "code",
      "source": [
        "np.random.seed(42)\n",
        "n_samples = 2000\n",
        "\n",
        "data = {\n",
        "    'feature_1': np.random.normal(0, 1, n_samples),\n",
        "    'feature_2': np.random.normal(1, 1.5, n_samples),\n",
        "    'age_group': np.random.choice([0, 1], n_samples),  # Sensitive attribute: 0 = Younger, 1 = Older\n",
        "    'gender': np.random.choice([0, 1], n_samples),     # Sensitive attribute: 0 = Female, 1 = Male\n",
        "    'label': np.random.choice([0, 1], n_samples)\n",
        "}\n",
        "df = pd.DataFrame(data)\n"
      ],
      "metadata": {
        "id": "aoauv96VW8eP"
      },
      "execution_count": null,
      "outputs": []
    },
    {
      "cell_type": "markdown",
      "source": [
        "**Step 3: Train-Test Split and Conversion to Tensors**\n",
        "\n",
        "Here, the dataset is split into training and test sets with 80/20 distribution. The features, labels, and sensitive attributes are then converted to PyTorch tensors for model compatibility. This setup enables the main model and adversaries to be trained on structured data, allowing us to include debiasing techniques."
      ],
      "metadata": {
        "id": "Ue_UwKEAXB-G"
      }
    },
    {
      "cell_type": "code",
      "source": [
        "X = df[['feature_1', 'feature_2']]\n",
        "y = df['label']\n",
        "sensitive_attributes = df[['age_group', 'gender']]\n",
        "\n",
        "X_train, X_test, y_train, y_test, sensitive_train, sensitive_test = train_test_split(\n",
        "    X, y, sensitive_attributes, test_size=0.2, stratify=y, random_state=42\n",
        ")\n",
        "\n",
        "X_train_tensor = torch.tensor(X_train.values, dtype=torch.float32)\n",
        "y_train_tensor = torch.tensor(y_train.values, dtype=torch.float32)\n",
        "age_train_tensor = torch.tensor(sensitive_train['age_group'].values, dtype=torch.float32)\n",
        "gender_train_tensor = torch.tensor(sensitive_train['gender'].values, dtype=torch.float32)\n",
        "X_test_tensor = torch.tensor(X_test.values, dtype=torch.float32)\n",
        "y_test_tensor = torch.tensor(y_test.values, dtype=torch.float32)\n"
      ],
      "metadata": {
        "id": "LSPKHk0TXGeh"
      },
      "execution_count": null,
      "outputs": []
    },
    {
      "cell_type": "markdown",
      "source": [
        "**Step 4: Define the Main Model and Two Adversaries**\n",
        "\n",
        "MainModel: This model predicts the target label from two features using a three-layer neural network.\n",
        "AdversaryModel: Two adversary models are created to predict the sensitive attributes (age_group and gender) based on the outputs from the main model. The adversaries help detect and mitigate bias in the main model’s predictions by penalizing it if it produces patterns associated with sensitive attributes."
      ],
      "metadata": {
        "id": "cr0TSOSRXKWO"
      }
    },
    {
      "cell_type": "code",
      "source": [
        "class MainModel(nn.Module):\n",
        "    def __init__(self):\n",
        "        super(MainModel, self).__init__()\n",
        "        self.fc = nn.Sequential(\n",
        "            nn.Linear(2, 16),\n",
        "            nn.ReLU(),\n",
        "            nn.Linear(16, 8),\n",
        "            nn.ReLU(),\n",
        "            nn.Linear(8, 1),\n",
        "            nn.Sigmoid()\n",
        "        )\n",
        "    def forward(self, x):\n",
        "        return self.fc(x)\n",
        "\n",
        "class AdversaryModel(nn.Module):\n",
        "    def __init__(self):\n",
        "        super(AdversaryModel, self).__init__()\n",
        "        self.fc = nn.Sequential(\n",
        "            nn.Linear(1, 8),\n",
        "            nn.ReLU(),\n",
        "            nn.Linear(8, 1),\n",
        "            nn.Sigmoid()\n",
        "        )\n",
        "    def forward(self, x):\n",
        "        return self.fc(x)\n"
      ],
      "metadata": {
        "id": "ssA5vvv2XCP-"
      },
      "execution_count": null,
      "outputs": []
    },
    {
      "cell_type": "markdown",
      "source": [
        "**Step 5: Instantiate Models and Set Loss Functions and Optimizers**\n",
        "\n",
        "Here:\n",
        "\n",
        "main_model, age_adversary, and gender_adversary are initialized.\n",
        "criterion_main is the main loss function for binary classification.\n",
        "criterion_adversary is used to measure the adversaries’ prediction accuracy.\n",
        "optimizer_main, optimizer_age, and optimizer_gender update the models’ weights.\n",
        "lambda_fairness determines the extent to which the fairness penalty affects the main model’s loss."
      ],
      "metadata": {
        "id": "fKI6aSyaXSqy"
      }
    },
    {
      "cell_type": "code",
      "source": [
        "main_model = MainModel()\n",
        "age_adversary = AdversaryModel()\n",
        "gender_adversary = AdversaryModel()\n",
        "\n",
        "criterion_main = nn.BCELoss()\n",
        "criterion_adversary = nn.BCELoss()\n",
        "optimizer_main = optim.Adam(main_model.parameters(), lr=0.01)\n",
        "optimizer_age = optim.Adam(age_adversary.parameters(), lr=0.01)\n",
        "optimizer_gender = optim.Adam(gender_adversary.parameters(), lr=0.01)\n",
        "lambda_fairness = 0.1  # Fairness penalty weight\n"
      ],
      "metadata": {
        "id": "5OsntyPCXZgP"
      },
      "execution_count": null,
      "outputs": []
    },
    {
      "cell_type": "markdown",
      "source": [
        "**Step 6: Adversarial Training Loop**\n",
        "\n",
        "In this loop, we train the main model and the two adversaries for 50 epochs:\n",
        "\n",
        "Main Model: Computes predictions for y_train_tensor and calculates main_loss.\n",
        "Adversaries: Each adversary (age and gender) tries to predict their respective sensitive attribute from the main model’s output. The adversarial losses (age_adversary_loss and gender_adversary_loss) indicate how well the adversaries can infer sensitive attributes from these outputs.\n",
        "Fairness Penalty: The adversarial losses are used to create a fairness penalty, discouraging the main model from learning patterns tied to age_group and gender. By penalizing the main model for adversaries’ success, it learns representations that are less biased toward the sensitive attributes."
      ],
      "metadata": {
        "id": "XxipWtEdXdmv"
      }
    },
    {
      "cell_type": "code",
      "source": [
        "n_epochs = 50\n",
        "for epoch in range(n_epochs):\n",
        "    main_model.train()\n",
        "    optimizer_main.zero_grad()\n",
        "    main_outputs = main_model(X_train_tensor).squeeze()\n",
        "    main_loss = criterion_main(main_outputs, y_train_tensor)\n",
        "\n",
        "    # Age Adversary Training\n",
        "    age_adversary.train()\n",
        "    optimizer_age.zero_grad()\n",
        "    age_adversary_outputs = age_adversary(main_outputs.detach().unsqueeze(1)).squeeze()\n",
        "    age_adversary_loss = criterion_adversary(age_adversary_outputs, age_train_tensor)\n",
        "\n",
        "    # Gender Adversary Training\n",
        "    gender_adversary.train()\n",
        "    optimizer_gender.zero_grad()\n",
        "    gender_adversary_outputs = gender_adversary(main_outputs.detach().unsqueeze(1)).squeeze()\n",
        "    gender_adversary_loss = criterion_adversary(gender_adversary_outputs, gender_train_tensor)\n",
        "\n",
        "    # Penalize Main Model for Adversaries’ Success\n",
        "    total_loss = main_loss + lambda_fairness * (age_adversary_loss + gender_adversary_loss)\n",
        "    total_loss.backward()\n",
        "    optimizer_main.step()\n",
        "    optimizer_age.step()\n",
        "    optimizer_gender.step()\n"
      ],
      "metadata": {
        "id": "T9HqB4saXd2y"
      },
      "execution_count": null,
      "outputs": []
    },
    {
      "cell_type": "markdown",
      "source": [
        "**Step 7: Baseline Model Training (Without Debiasing)**\n",
        "\n",
        "For comparison, we train a baseline model without any adversarial debiasing. This model learns based solely on prediction accuracy, so it may capture patterns tied to sensitive attributes. This step provides a benchmark to see if debiasing affects the main model’s accuracy."
      ],
      "metadata": {
        "id": "wX5i4SAbXn6S"
      }
    },
    {
      "cell_type": "code",
      "source": [
        "baseline_model = MainModel()\n",
        "baseline_optimizer = optim.Adam(baseline_model.parameters(), lr=0.01)\n",
        "for epoch in range(n_epochs):\n",
        "    baseline_optimizer.zero_grad()\n",
        "    baseline_outputs = baseline_model(X_train_tensor).squeeze()\n",
        "    baseline_loss = criterion_main(baseline_outputs, y_train_tensor)\n",
        "    baseline_loss.backward()\n",
        "    baseline_optimizer.step()\n"
      ],
      "metadata": {
        "id": "jIuCGeMXXoKH"
      },
      "execution_count": null,
      "outputs": []
    },
    {
      "cell_type": "markdown",
      "source": [
        "**Step 8: Evaluate Models**\n",
        "\n",
        "We evaluate both the baseline and debiased models on the test set and generate a classification report. This shows the accuracy, precision, recall, and F1-score, allowing us to compare the impact of adversarial debiasing on prediction performance.\n",
        "\n"
      ],
      "metadata": {
        "id": "-_zJEhDFXzJk"
      }
    },
    {
      "cell_type": "code",
      "source": [
        "with torch.no_grad():\n",
        "    y_pred_baseline = (baseline_model(X_test_tensor).squeeze() > 0.5).float().numpy()\n",
        "    y_pred_debiased = (main_model(X_test_tensor).squeeze() > 0.5).float().numpy()\n",
        "\n",
        "print(\"Baseline Model (Before Debiasing) Report:\")\n",
        "print(classification_report(y_test, y_pred_baseline))\n",
        "\n",
        "print(\"Debiased Model (After Adversarial Training) Report:\")\n",
        "print(classification_report(y_test, y_pred_debiased))\n"
      ],
      "metadata": {
        "colab": {
          "base_uri": "https://localhost:8080/"
        },
        "id": "SlRM9AmhX9H-",
        "outputId": "626885e5-a59c-466b-cd2b-5925262d687f"
      },
      "execution_count": null,
      "outputs": [
        {
          "output_type": "stream",
          "name": "stdout",
          "text": [
            "Baseline Model (Before Debiasing) Report:\n",
            "              precision    recall  f1-score   support\n",
            "\n",
            "           0       0.54      0.92      0.68       212\n",
            "           1       0.53      0.10      0.16       188\n",
            "\n",
            "    accuracy                           0.54       400\n",
            "   macro avg       0.53      0.51      0.42       400\n",
            "weighted avg       0.53      0.54      0.44       400\n",
            "\n",
            "Debiased Model (After Adversarial Training) Report:\n",
            "              precision    recall  f1-score   support\n",
            "\n",
            "           0       0.53      0.98      0.69       212\n",
            "           1       0.50      0.03      0.05       188\n",
            "\n",
            "    accuracy                           0.53       400\n",
            "   macro avg       0.52      0.50      0.37       400\n",
            "weighted avg       0.52      0.53      0.39       400\n",
            "\n"
          ]
        }
      ]
    },
    {
      "cell_type": "markdown",
      "source": [
        "### **Threshold adjustment for subgroups**\n",
        "\n",
        "This code is an implementation of a fairness technique called \"threshold adjustment\" applied to a synthetic dataset. In this case, we have a dataset divided into two groups, \"A\" and \"B,\" and the goal is to evaluate the fairness of a machine learning model's predictions for these subgroups by adjusting prediction thresholds. Here's a breakdown of the code in parts:"
      ],
      "metadata": {
        "id": "KIlcuL9hY9G8"
      }
    },
    {
      "cell_type": "code",
      "source": [
        "import numpy as np\n",
        "import pandas as pd\n",
        "import matplotlib.pyplot as plt\n",
        "import seaborn as sns\n",
        "from sklearn.model_selection import train_test_split, cross_val_predict\n",
        "from sklearn.ensemble import RandomForestClassifier\n",
        "from sklearn.metrics import accuracy_score, confusion_matrix, classification_report\n"
      ],
      "metadata": {
        "id": "4IUmc9VdbLWS"
      },
      "execution_count": null,
      "outputs": []
    },
    {
      "cell_type": "markdown",
      "source": [
        "**Step 2: Synthetic Data Creation**\n",
        "\n",
        "Purpose: This section creates a synthetic dataset with two features (feature_1 and feature_2), a binary attribute group (representing groups A and B), and a binary target label.\n",
        "Context: The group variable is treated as a sensitive attribute, meaning we aim to treat groups A and B equitably in model predictions."
      ],
      "metadata": {
        "id": "PdagSZldZHIm"
      }
    },
    {
      "cell_type": "code",
      "source": [
        "np.random.seed(0)\n",
        "n_samples = 1000\n",
        "data = {\n",
        "    'feature_1': np.random.rand(n_samples),\n",
        "    'feature_2': np.random.rand(n_samples),\n",
        "    'group': np.random.choice(['A', 'B'], n_samples),  # Two groups\n",
        "    'label': np.random.choice([0, 1], n_samples)  # Binary labels\n",
        "}\n",
        "df = pd.DataFrame(data)\n"
      ],
      "metadata": {
        "id": "3kL5PaOrZHdf"
      },
      "execution_count": null,
      "outputs": []
    },
    {
      "cell_type": "markdown",
      "source": [
        "**Step 3: Train-Test Split with Stratification by Group**\n",
        "\n",
        "Purpose: This splits the dataset into training and testing sets while ensuring each group has a balanced representation in both sets. Stratifying by group helps maintain group representation across splits.\n",
        "Context: Balanced groups in train-test splits are essential to check if the model performs equitably across sensitive subgroups.\n"
      ],
      "metadata": {
        "id": "TUhqtP3aZMX5"
      }
    },
    {
      "cell_type": "code",
      "source": [
        "X = df[['feature_1', 'feature_2']]\n",
        "y = df['label']\n",
        "groups = df['group']\n",
        "\n",
        "X_train, X_test, y_train, y_test, groups_train, groups_test = train_test_split(\n",
        "    X, y, groups, test_size=0.2, stratify=groups, random_state=42\n",
        ")"
      ],
      "metadata": {
        "id": "KrPqaQvvZMrK"
      },
      "execution_count": null,
      "outputs": []
    },
    {
      "cell_type": "markdown",
      "source": [
        "**Step 4: Initial Model Training with Cross-Validation**\n",
        "\n",
        "Purpose: Here, a RandomForestClassifier model is trained with 5-fold cross-validation, and predictions are generated on the training set.\n",
        "Context: The initial model serves as a baseline for fairness evaluation, so we can later compare it with a debiased model after applying threshold adjustments."
      ],
      "metadata": {
        "id": "wNJHFm-Xa2EQ"
      }
    },
    {
      "cell_type": "code",
      "source": [
        "model_initial = RandomForestClassifier(random_state=42)\n",
        "y_pred_initial = cross_val_predict(model_initial, X_train, y_train, cv=5)\n"
      ],
      "metadata": {
        "id": "isEx6MIPa2il"
      },
      "execution_count": null,
      "outputs": []
    },
    {
      "cell_type": "markdown",
      "source": [
        "**Step 5: Initial Model Evaluation**\n",
        "\n",
        "Purpose: We use classification_report to generate precision, recall, and F1 scores, which are useful metrics to evaluate model performance per class. accuracy_score provides an overall accuracy of the model.\n",
        "Context: This initial evaluation captures metrics that show whether the model performance is consistent across subgroups A and B, providing baseline values before adjustments."
      ],
      "metadata": {
        "id": "5ME-403PbN84"
      }
    },
    {
      "cell_type": "code",
      "source": [
        "initial_report = classification_report(y_train, y_pred_initial, output_dict=True)\n",
        "accuracy_initial = accuracy_score(y_test, model_initial.fit(X_train, y_train).predict(X_test))\n"
      ],
      "metadata": {
        "id": "pxH6v3qQbOQH"
      },
      "execution_count": null,
      "outputs": []
    },
    {
      "cell_type": "markdown",
      "source": [
        "**Step 6: Fairness Technique - Threshold Adjustment**\n",
        "\n",
        " Purpose: Here, we apply threshold adjustment by setting different prediction thresholds for each group. Group A receives a lower threshold (0.4) compared to group B (0.6), meaning that it's easier for members of group A to be predicted as positive.\n",
        "Context: This technique is used to improve fairness. By adjusting thresholds, we address potential biases where one group might be treated less favorably in the model predictions."
      ],
      "metadata": {
        "id": "rWCPof_JbW3z"
      }
    },
    {
      "cell_type": "code",
      "source": [
        "threshold_A = 0.4  # Lower threshold for group A\n",
        "threshold_B = 0.6  # Higher threshold for group B\n",
        "\n",
        "y_probs = model_initial.predict_proba(X_test)[:, 1]\n",
        "y_pred_adjusted = np.where(groups_test == 'A', (y_probs >= threshold_A).astype(int),\n",
        "                                             (y_probs >= threshold_B).astype(int))\n"
      ],
      "metadata": {
        "id": "X5KI9fzobXU-"
      },
      "execution_count": null,
      "outputs": []
    },
    {
      "cell_type": "markdown",
      "source": [
        "**Step 7: Adjusted Model Evaluation**\n",
        "\n",
        "Purpose: This generates a classification report after applying threshold adjustments, allowing us to evaluate whether fairness across groups has improved.\n",
        "Context: The adjusted metrics help us understand if threshold adjustments lead to more balanced outcomes in precision, recall, and F1 scores across groups A and B.\n",
        "\n"
      ],
      "metadata": {
        "id": "Z0Lwx2tDbeuU"
      }
    },
    {
      "cell_type": "code",
      "source": [
        "adjusted_report = classification_report(y_test, y_pred_adjusted, output_dict=True)\n"
      ],
      "metadata": {
        "id": "Zyhg2UIwbfUp"
      },
      "execution_count": null,
      "outputs": []
    },
    {
      "cell_type": "markdown",
      "source": [
        "**Step 8: Visualization of Metrics Comparison**\n",
        "\n",
        "Purpose: This visualization shows a side-by-side comparison of model metrics before and after threshold adjustment.\n",
        "Context: Visualizing the metrics allows for an easier comparison of whether fairness techniques have had the desired impact on performance across sensitive subgroups."
      ],
      "metadata": {
        "id": "RrF9eLC6bpxp"
      }
    },
    {
      "cell_type": "code",
      "source": [
        "metrics_initial = {\n",
        "    'Accuracy': accuracy_initial,\n",
        "    'Precision Group A': initial_report['0']['precision'],\n",
        "    'Precision Group B': initial_report['1']['precision'],\n",
        "    'Recall Group A': initial_report['0']['recall'],\n",
        "    'Recall Group B': initial_report['1']['recall'],\n",
        "    'F1 Score Group A': initial_report['0']['f1-score'],\n",
        "    'F1 Score Group B': initial_report['1']['f1-score']\n",
        "}\n",
        "\n",
        "# Store metrics\n",
        "metrics_adjusted = {\n",
        "    'Accuracy': accuracy_score(y_test, y_pred_adjusted),\n",
        "    'Precision Group A': adjusted_report['0']['precision'],\n",
        "    'Precision Group B': adjusted_report['1']['precision'],\n",
        "    'Recall Group A': adjusted_report['0']['recall'],\n",
        "    'Recall Group B': adjusted_report['1']['recall'],\n",
        "    'F1 Score Group A': adjusted_report['0']['f1-score'],\n",
        "    'F1 Score Group B': adjusted_report['1']['f1-score']\n",
        "}\n",
        "labels = list(metrics_initial.keys())\n",
        "initial_values = list(metrics_initial.values())\n",
        "adjusted_values = list(metrics_adjusted.values())\n",
        "\n",
        "x = np.arange(len(labels))  # the label locations\n",
        "width = 0.35  # the width of the bars\n",
        "fig, ax = plt.subplots(figsize=(12, 6))\n",
        "bars1 = ax.bar(x - width/2, initial_values, width, label='Initial Model', color='blue')\n",
        "bars2 = ax.bar(x + width/2, adjusted_values, width, label='Adjusted Model', color='orange')\n"
      ],
      "metadata": {
        "colab": {
          "base_uri": "https://localhost:8080/",
          "height": 359
        },
        "id": "PpBEAVTRbp9Z",
        "outputId": "20b4fd0d-5be6-46fd-d2cd-b004b64c912c"
      },
      "execution_count": null,
      "outputs": [
        {
          "output_type": "display_data",
          "data": {
            "text/plain": [
              "<Figure size 1200x600 with 1 Axes>"
            ],
            "image/png": "[encoded data removed]"
          },
          "metadata": {}
        }
      ]
    },
    {
      "cell_type": "markdown",
      "source": [
        "### **F. Continuous model training**\n",
        "\n",
        "The code demonstrates a continuous training approach where a model is initially trained on a dataset and then updated over time as new data arrives. This approach is beneficial in scenarios where the data distribution may change or new data is available periodically"
      ],
      "metadata": {
        "id": "cFna8SaZcfD7"
      }
    },
    {
      "cell_type": "markdown",
      "source": [
        "**1. Import Libraries and Set Random Seed**\n",
        "\n",
        "This section imports necessary libraries for data manipulation, visualization, and modeling. Setting the random seed ensures reproducible results, as it fixes the randomness in data splitting and model training."
      ],
      "metadata": {
        "id": "I-7Nbpr7c7YN"
      }
    },
    {
      "cell_type": "code",
      "source": [
        "import numpy as np\n",
        "import pandas as pd\n",
        "import matplotlib.pyplot as plt\n",
        "import seaborn as sns\n",
        "from sklearn.model_selection import train_test_split\n",
        "from sklearn.ensemble import RandomForestClassifier\n",
        "from sklearn.metrics import accuracy_score, classification_report\n",
        "\n",
        "# Set random seed for reproducibility\n",
        "np.random.seed(42)\n"
      ],
      "metadata": {
        "id": "mN0-JejHc7x6"
      },
      "execution_count": null,
      "outputs": []
    },
    {
      "cell_type": "markdown",
      "source": [
        "**2. Create the Initial Dataset**\n",
        "\n",
        "A synthetic dataset with 500 samples is created with two random features (feature_1 and feature_2) and a binary label (label). This dataset simulates the initial data available for model training."
      ],
      "metadata": {
        "id": "j-RzFUi5dFWR"
      }
    },
    {
      "cell_type": "code",
      "source": [
        "# 1. Create synthetic initial dataset\n",
        "n_initial_samples = 500\n",
        "initial_data = {\n",
        "    'feature_1': np.random.rand(n_initial_samples),\n",
        "    'feature_2': np.random.rand(n_initial_samples),\n",
        "    'label': np.random.choice([0, 1], n_initial_samples)\n",
        "}\n",
        "initial_df = pd.DataFrame(initial_data)\n"
      ],
      "metadata": {
        "id": "XWfoM-Y5dErQ"
      },
      "execution_count": null,
      "outputs": []
    },
    {
      "cell_type": "markdown",
      "source": [
        "**3. Split and Train the Initial Model**\n",
        "\n",
        "The dataset is split into training and testing sets (80% training, 20% testing). A Random Forest model (model_initial) is then trained on this initial training set. The model's performance is evaluated on the test set using accuracy and classification metrics, with results stored in initial_report and accuracy_initial."
      ],
      "metadata": {
        "id": "Uj-fiegQdN8-"
      }
    },
    {
      "cell_type": "code",
      "source": [
        "# Split the initial dataset into training and test sets\n",
        "X_initial = initial_df[['feature_1', 'feature_2']]\n",
        "y_initial = initial_df['label']\n",
        "X_train_initial, X_test, y_train_initial, y_test = train_test_split(X_initial, y_initial, test_size=0.2, random_state=42)\n",
        "\n",
        "# 2. Train the initial model\n",
        "model_initial = RandomForestClassifier(random_state=42)\n",
        "model_initial.fit(X_train_initial, y_train_initial)\n",
        "\n",
        "# Evaluate initial model performance\n",
        "y_pred_initial = model_initial.predict(X_test)\n",
        "initial_report = classification_report(y_test, y_pred_initial, output_dict=True)\n",
        "accuracy_initial = accuracy_score(y_test, y_pred_initial)\n"
      ],
      "metadata": {
        "id": "Qrrj7HohdRkR"
      },
      "execution_count": null,
      "outputs": []
    },
    {
      "cell_type": "markdown",
      "source": [
        "**4. Simulate New Data Arriving Over Time**\n",
        "\n",
        "A function generate_new_data is defined to create new batches of data. This function is called five times (simulating five separate time periods), each time generating 200 samples. The results are concatenated into new_data_combined, representing the new data that becomes available over time.\n",
        "\n"
      ],
      "metadata": {
        "id": "XrXOQGWfdBKb"
      }
    },
    {
      "cell_type": "code",
      "source": [
        "# 3. Introduce new diverse data\n",
        "def generate_new_data(n_samples):\n",
        "    return pd.DataFrame({\n",
        "        'feature_1': np.random.rand(n_samples),\n",
        "        'feature_2': np.random.rand(n_samples),\n",
        "        'label': np.random.choice([0, 1], n_samples)\n",
        "    })\n",
        "\n",
        "# Simulate new data arriving over time\n",
        "new_data_periods = [generate_new_data(200) for _ in range(5)]  # 5 periods of new data\n",
        "new_data_combined = pd.concat(new_data_periods, ignore_index=True)\n"
      ],
      "metadata": {
        "id": "2orkwWb3dZBq"
      },
      "execution_count": null,
      "outputs": []
    },
    {
      "cell_type": "markdown",
      "source": [
        "**5. Continuously Retrain the Model with Combined Data**\n",
        "\n",
        "Here, the original and new datasets are combined into X_combined and y_combined. This expanded dataset is split into new training and test sets, and the model (model_updated) is retrained on this combined data. Performance is evaluated on the updated test set, and results are stored in updated_report and accuracy_updated.\n",
        "\n"
      ],
      "metadata": {
        "id": "cmlHUFGiddjY"
      }
    },
    {
      "cell_type": "code",
      "source": [
        "# 4. Continuously retrain the model\n",
        "X_new = new_data_combined[['feature_1', 'feature_2']]\n",
        "y_new = new_data_combined['label']\n",
        "\n",
        "# Combine old and new data for retraining\n",
        "X_combined = pd.concat([X_initial, X_new], ignore_index=True)\n",
        "y_combined = pd.concat([y_initial, y_new], ignore_index=True)\n",
        "\n",
        "# Split the combined dataset into training and test sets\n",
        "X_train_combined, X_test_combined, y_train_combined, y_test_combined = train_test_split(X_combined, y_combined, test_size=0.2, random_state=42)\n",
        "\n",
        "# Train the updated model\n",
        "model_updated = RandomForestClassifier(random_state=42)\n",
        "model_updated.fit(X_train_combined, y_train_combined)\n",
        "\n",
        "# Evaluate updated model performance\n",
        "y_pred_updated = model_updated.predict(X_test_combined)\n",
        "updated_report = classification_report(y_test_combined, y_pred_updated, output_dict=True)\n",
        "accuracy_updated = accuracy_score(y_test_combined, y_pred_updated)\n"
      ],
      "metadata": {
        "id": "wmzdf-s2dhj8"
      },
      "execution_count": null,
      "outputs": []
    },
    {
      "cell_type": "markdown",
      "source": [
        "**6. Visualize Results and Compare Performance**\n",
        "\n",
        "This code segment visualizes and compares the performance metrics (accuracy, precision, recall, and F1 score) of the initial and updated models. A bar plot is created to provide a clear comparison of these metrics before and after retraining."
      ],
      "metadata": {
        "id": "py8NWgOedmI4"
      }
    },
    {
      "cell_type": "code",
      "source": [
        "# Create a DataFrame for better visualization\n",
        "results_df = pd.DataFrame({\n",
        "    'Model': labels,\n",
        "    'Accuracy': accuracies,\n",
        "    'Precision': precision_A,\n",
        "    'Recall': recall_A,\n",
        "    'F1 Score': f1_A\n",
        "})\n",
        "\n",
        "# Plotting a single bar plot for accuracy, precision, recall, F1 score\n",
        "fig, ax = plt.subplots(figsize=(8, 6))\n",
        "results_df.set_index('Model')[['Accuracy', 'Precision', 'Recall', 'F1 Score']].plot(kind='bar', ax=ax)\n",
        "ax.set_ylabel('Scores')\n",
        "ax.set_title('Model Performance Before and After Retraining')\n",
        "ax.legend(title='Metrics')\n",
        "ax.set_ylim(0, 1)\n",
        "\n",
        "plt.tight_layout()\n",
        "plt.show()\n"
      ],
      "metadata": {
        "colab": {
          "base_uri": "https://localhost:8080/",
          "height": 514
        },
        "id": "aS4kTr7Mdruh",
        "outputId": "5a9c277d-d0b6-40fc-ff44-c1148c8f1eb3"
      },
      "execution_count": null,
      "outputs": [
        {
          "output_type": "display_data",
          "data": {
            "text/plain": [
              "<Figure size 800x600 with 1 Axes>"
            ],
            "image/png": "[encoded data removed]"
          },
          "metadata": {}
        }
      ]
    }
  ]
}